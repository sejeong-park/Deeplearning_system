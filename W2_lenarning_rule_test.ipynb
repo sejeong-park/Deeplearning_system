{
  "nbformat": 4,
  "nbformat_minor": 0,
  "metadata": {
    "colab": {
      "name": "W2_lenarning_rule_test",
      "provenance": [],
      "authorship_tag": "ABX9TyOUtmTrx83DMLIEJp1/TSb4",
      "include_colab_link": true
    },
    "kernelspec": {
      "name": "python3",
      "display_name": "Python 3"
    }
  },
  "cells": [
    {
      "cell_type": "markdown",
      "metadata": {
        "id": "view-in-github",
        "colab_type": "text"
      },
      "source": [
        "<a href=\"https://colab.research.google.com/github/sejeong-park/Deeplearning_system/blob/main/W2_lenarning_rule_test.ipynb\" target=\"_parent\"><img src=\"https://colab.research.google.com/assets/colab-badge.svg\" alt=\"Open In Colab\"/></a>"
      ]
    },
    {
      "cell_type": "code",
      "metadata": {
        "id": "dZEOewLR2P_X"
      },
      "source": [
        "import numpy as np  "
      ],
      "execution_count": 1,
      "outputs": []
    },
    {
      "cell_type": "code",
      "metadata": {
        "id": "uIumOwFQ2SeG"
      },
      "source": [
        "#r=learning rate: 1로 두어서 상관 없이 일단 설정 -> 다음 시간에 배울 것\r\n",
        "#input dimmention은 입력 해렬\r\n",
        "#w의 값은 랜덤 으로 설정할 거 고  dim_input 들어감\r\n",
        "\r\n",
        "class Perceptron(object):\r\n",
        "  def __init__(self, dim_input,no_iteration=100,r=1):\r\n",
        "    self.no_iteration = no_iteration\r\n",
        "    self.r=r\r\n",
        "    self.w=np.random.random_sample((dim_input+1,))\r\n",
        " \r\n",
        " # 예측값: 인풋 벡터가 들어왔을 때\r\n",
        "  def predict(self,X):\r\n",
        "    #bias구성 빼고 하기 때문에 1부터로 설정\r\n",
        "    w_sum=np.dot(X,self.w[1:])+self.w[0]\r\n",
        "\r\n",
        "    if w_sum>=0: return 1\r\n",
        "    else: return 0\r\n",
        "  #learning rule\r\n",
        "  #rate를 업데이트하는 과정 ->  training\r\n",
        "  #lavels: target a : target output\r\n",
        "  #training_x: test에서 나온 input 값\r\n",
        "  def training(self, training_x,labels):\r\n",
        "    for _ in range(self.no_iteration):\r\n",
        "      for xi,actual_y in zip(training_x,labels):\r\n",
        "        predicted_y=self.predict(xi)\r\n",
        "        self.w[1:]+= self.r*(actual_y-predicted_y)*xi #bias를 제외한 가중치 \r\n",
        "        self.w[0]+=self.r*(actual_y-predicted_y) #bias  \r\n",
        "\r\n"
      ],
      "execution_count": 36,
      "outputs": []
    },
    {
      "cell_type": "code",
      "metadata": {
        "id": "BWO9LWo12Sgu"
      },
      "source": [
        "X=[]\r\n",
        "X.append(np.array([1,2]))\r\n",
        "X.append(np.array([-1,2]))\r\n",
        "X.append(np.array([0,-1]))\r\n",
        "Y=np.array([1,0,0]) #target으로 하는 output\r\n"
      ],
      "execution_count": 37,
      "outputs": []
    },
    {
      "cell_type": "code",
      "metadata": {
        "id": "1DMxt4i872qz"
      },
      "source": [
        "perceptron=Perceptron(X[0].size)"
      ],
      "execution_count": 38,
      "outputs": []
    },
    {
      "cell_type": "code",
      "metadata": {
        "colab": {
          "base_uri": "https://localhost:8080/"
        },
        "id": "rglXw-N42Sjf",
        "outputId": "753ca51e-02d4-43ea-9ec6-aa696364c0d3"
      },
      "source": [
        "print(\"Before training\")\r\n",
        "print(perceptron.predict(X[0]))\r\n",
        "print(perceptron.predict(X[1]))\r\n",
        "print(perceptron.predict(X[2]))"
      ],
      "execution_count": 39,
      "outputs": [
        {
          "output_type": "stream",
          "text": [
            "Before training\n",
            "1\n",
            "1\n",
            "0\n"
          ],
          "name": "stdout"
        }
      ]
    },
    {
      "cell_type": "code",
      "metadata": {
        "id": "Bps_tzmW8QRl"
      },
      "source": [
        "perceptron.training(X,Y)"
      ],
      "execution_count": 40,
      "outputs": []
    },
    {
      "cell_type": "code",
      "metadata": {
        "colab": {
          "base_uri": "https://localhost:8080/"
        },
        "id": "OzHQYQ7p2Sl5",
        "outputId": "d47a70cc-4948-40df-ce3b-6ea095e1af25"
      },
      "source": [
        "print(\"After training\")\r\n",
        "print(perceptron.predict(X[0]))\r\n",
        "print(perceptron.predict(X[1]))\r\n",
        "print(perceptron.predict(X[2]))\r\n"
      ],
      "execution_count": 41,
      "outputs": [
        {
          "output_type": "stream",
          "text": [
            "After training\n",
            "1\n",
            "0\n",
            "0\n"
          ],
          "name": "stdout"
        }
      ]
    },
    {
      "cell_type": "code",
      "metadata": {
        "id": "do4Q2VSq2SxB"
      },
      "source": [
        ""
      ],
      "execution_count": null,
      "outputs": []
    }
  ]
}