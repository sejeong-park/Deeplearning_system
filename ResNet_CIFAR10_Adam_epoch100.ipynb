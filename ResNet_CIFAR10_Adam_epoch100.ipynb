{
  "nbformat": 4,
  "nbformat_minor": 0,
  "metadata": {
    "colab": {
      "name": "ResNet_CIFAR10_Adam_epoch100",
      "provenance": [],
      "collapsed_sections": [],
      "authorship_tag": "ABX9TyM57Wd+O7nvhUg2ZiCf0xyD",
      "include_colab_link": true
    },
    "kernelspec": {
      "name": "python3",
      "display_name": "Python 3"
    },
    "language_info": {
      "name": "python"
    },
    "accelerator": "GPU",
    "widgets": {
      "application/vnd.jupyter.widget-state+json": {
        "04f346bf1a2044faa9c75cb8a306e24a": {
          "model_module": "@jupyter-widgets/controls",
          "model_name": "HBoxModel",
          "state": {
            "_view_name": "HBoxView",
            "_dom_classes": [],
            "_model_name": "HBoxModel",
            "_view_module": "@jupyter-widgets/controls",
            "_model_module_version": "1.5.0",
            "_view_count": null,
            "_view_module_version": "1.5.0",
            "box_style": "",
            "layout": "IPY_MODEL_7383ae4596d04e84abd32ba4d0fac645",
            "_model_module": "@jupyter-widgets/controls",
            "children": [
              "IPY_MODEL_ac98b751e3d442ea849a55108886bdad",
              "IPY_MODEL_3c495c00456e4870a235ea01a7c8b6c3"
            ]
          }
        },
        "7383ae4596d04e84abd32ba4d0fac645": {
          "model_module": "@jupyter-widgets/base",
          "model_name": "LayoutModel",
          "state": {
            "_view_name": "LayoutView",
            "grid_template_rows": null,
            "right": null,
            "justify_content": null,
            "_view_module": "@jupyter-widgets/base",
            "overflow": null,
            "_model_module_version": "1.2.0",
            "_view_count": null,
            "flex_flow": null,
            "width": null,
            "min_width": null,
            "border": null,
            "align_items": null,
            "bottom": null,
            "_model_module": "@jupyter-widgets/base",
            "top": null,
            "grid_column": null,
            "overflow_y": null,
            "overflow_x": null,
            "grid_auto_flow": null,
            "grid_area": null,
            "grid_template_columns": null,
            "flex": null,
            "_model_name": "LayoutModel",
            "justify_items": null,
            "grid_row": null,
            "max_height": null,
            "align_content": null,
            "visibility": null,
            "align_self": null,
            "height": null,
            "min_height": null,
            "padding": null,
            "grid_auto_rows": null,
            "grid_gap": null,
            "max_width": null,
            "order": null,
            "_view_module_version": "1.2.0",
            "grid_template_areas": null,
            "object_position": null,
            "object_fit": null,
            "grid_auto_columns": null,
            "margin": null,
            "display": null,
            "left": null
          }
        },
        "ac98b751e3d442ea849a55108886bdad": {
          "model_module": "@jupyter-widgets/controls",
          "model_name": "FloatProgressModel",
          "state": {
            "_view_name": "ProgressView",
            "style": "IPY_MODEL_613eaf8747794c50826d92317dfe68ca",
            "_dom_classes": [],
            "description": "",
            "_model_name": "FloatProgressModel",
            "bar_style": "success",
            "max": 170498071,
            "_view_module": "@jupyter-widgets/controls",
            "_model_module_version": "1.5.0",
            "value": 170498071,
            "_view_count": null,
            "_view_module_version": "1.5.0",
            "orientation": "horizontal",
            "min": 0,
            "description_tooltip": null,
            "_model_module": "@jupyter-widgets/controls",
            "layout": "IPY_MODEL_b8782361459f41e78fa885b4e4ccc945"
          }
        },
        "3c495c00456e4870a235ea01a7c8b6c3": {
          "model_module": "@jupyter-widgets/controls",
          "model_name": "HTMLModel",
          "state": {
            "_view_name": "HTMLView",
            "style": "IPY_MODEL_125171f7ccb14a8584bfc9fb4b93f47f",
            "_dom_classes": [],
            "description": "",
            "_model_name": "HTMLModel",
            "placeholder": "​",
            "_view_module": "@jupyter-widgets/controls",
            "_model_module_version": "1.5.0",
            "value": " 170499072/? [34:54&lt;00:00, 81410.22it/s]",
            "_view_count": null,
            "_view_module_version": "1.5.0",
            "description_tooltip": null,
            "_model_module": "@jupyter-widgets/controls",
            "layout": "IPY_MODEL_e2b3ab23801c472393b6b601a408604f"
          }
        },
        "613eaf8747794c50826d92317dfe68ca": {
          "model_module": "@jupyter-widgets/controls",
          "model_name": "ProgressStyleModel",
          "state": {
            "_view_name": "StyleView",
            "_model_name": "ProgressStyleModel",
            "description_width": "initial",
            "_view_module": "@jupyter-widgets/base",
            "_model_module_version": "1.5.0",
            "_view_count": null,
            "_view_module_version": "1.2.0",
            "bar_color": null,
            "_model_module": "@jupyter-widgets/controls"
          }
        },
        "b8782361459f41e78fa885b4e4ccc945": {
          "model_module": "@jupyter-widgets/base",
          "model_name": "LayoutModel",
          "state": {
            "_view_name": "LayoutView",
            "grid_template_rows": null,
            "right": null,
            "justify_content": null,
            "_view_module": "@jupyter-widgets/base",
            "overflow": null,
            "_model_module_version": "1.2.0",
            "_view_count": null,
            "flex_flow": null,
            "width": null,
            "min_width": null,
            "border": null,
            "align_items": null,
            "bottom": null,
            "_model_module": "@jupyter-widgets/base",
            "top": null,
            "grid_column": null,
            "overflow_y": null,
            "overflow_x": null,
            "grid_auto_flow": null,
            "grid_area": null,
            "grid_template_columns": null,
            "flex": null,
            "_model_name": "LayoutModel",
            "justify_items": null,
            "grid_row": null,
            "max_height": null,
            "align_content": null,
            "visibility": null,
            "align_self": null,
            "height": null,
            "min_height": null,
            "padding": null,
            "grid_auto_rows": null,
            "grid_gap": null,
            "max_width": null,
            "order": null,
            "_view_module_version": "1.2.0",
            "grid_template_areas": null,
            "object_position": null,
            "object_fit": null,
            "grid_auto_columns": null,
            "margin": null,
            "display": null,
            "left": null
          }
        },
        "125171f7ccb14a8584bfc9fb4b93f47f": {
          "model_module": "@jupyter-widgets/controls",
          "model_name": "DescriptionStyleModel",
          "state": {
            "_view_name": "StyleView",
            "_model_name": "DescriptionStyleModel",
            "description_width": "",
            "_view_module": "@jupyter-widgets/base",
            "_model_module_version": "1.5.0",
            "_view_count": null,
            "_view_module_version": "1.2.0",
            "_model_module": "@jupyter-widgets/controls"
          }
        },
        "e2b3ab23801c472393b6b601a408604f": {
          "model_module": "@jupyter-widgets/base",
          "model_name": "LayoutModel",
          "state": {
            "_view_name": "LayoutView",
            "grid_template_rows": null,
            "right": null,
            "justify_content": null,
            "_view_module": "@jupyter-widgets/base",
            "overflow": null,
            "_model_module_version": "1.2.0",
            "_view_count": null,
            "flex_flow": null,
            "width": null,
            "min_width": null,
            "border": null,
            "align_items": null,
            "bottom": null,
            "_model_module": "@jupyter-widgets/base",
            "top": null,
            "grid_column": null,
            "overflow_y": null,
            "overflow_x": null,
            "grid_auto_flow": null,
            "grid_area": null,
            "grid_template_columns": null,
            "flex": null,
            "_model_name": "LayoutModel",
            "justify_items": null,
            "grid_row": null,
            "max_height": null,
            "align_content": null,
            "visibility": null,
            "align_self": null,
            "height": null,
            "min_height": null,
            "padding": null,
            "grid_auto_rows": null,
            "grid_gap": null,
            "max_width": null,
            "order": null,
            "_view_module_version": "1.2.0",
            "grid_template_areas": null,
            "object_position": null,
            "object_fit": null,
            "grid_auto_columns": null,
            "margin": null,
            "display": null,
            "left": null
          }
        }
      }
    }
  },
  "cells": [
    {
      "cell_type": "markdown",
      "metadata": {
        "id": "view-in-github",
        "colab_type": "text"
      },
      "source": [
        "<a href=\"https://colab.research.google.com/github/sejeong-park/Deeplearning_system/blob/main/ResNet_CIFAR10_Adam_epoch100.ipynb\" target=\"_parent\"><img src=\"https://colab.research.google.com/assets/colab-badge.svg\" alt=\"Open In Colab\"/></a>"
      ]
    },
    {
      "cell_type": "code",
      "metadata": {
        "id": "28gMu6lKDNC2"
      },
      "source": [
        "import torch\n",
        "import torch.nn as nn\n",
        "import torchvision\n",
        "import torchvision.transforms as transforms\n"
      ],
      "execution_count": 1,
      "outputs": []
    },
    {
      "cell_type": "code",
      "metadata": {
        "id": "OvPGC9CADSJT"
      },
      "source": [
        "device = torch.device('cuda' if torch.cuda.is_available() else 'cpu')"
      ],
      "execution_count": 2,
      "outputs": []
    },
    {
      "cell_type": "code",
      "metadata": {
        "id": "POdzkmQ4DSGX"
      },
      "source": [
        "# Hyper-parameters\n",
        "num_epochs = 100\n",
        "batch_size = 100\n",
        "learning_rate = 0.001"
      ],
      "execution_count": 3,
      "outputs": []
    },
    {
      "cell_type": "code",
      "metadata": {
        "id": "uXAo_M6KDSDO"
      },
      "source": [
        "# Image preprocessing modules\n",
        "transform = transforms.Compose([\n",
        "    transforms.Pad(4),\n",
        "    transforms.RandomHorizontalFlip(),\n",
        "    transforms.RandomCrop(32),\n",
        "    transforms.ToTensor()])"
      ],
      "execution_count": 4,
      "outputs": []
    },
    {
      "cell_type": "code",
      "metadata": {
        "colab": {
          "base_uri": "https://localhost:8080/",
          "height": 103,
          "referenced_widgets": [
            "04f346bf1a2044faa9c75cb8a306e24a",
            "7383ae4596d04e84abd32ba4d0fac645",
            "ac98b751e3d442ea849a55108886bdad",
            "3c495c00456e4870a235ea01a7c8b6c3",
            "613eaf8747794c50826d92317dfe68ca",
            "b8782361459f41e78fa885b4e4ccc945",
            "125171f7ccb14a8584bfc9fb4b93f47f",
            "e2b3ab23801c472393b6b601a408604f"
          ]
        },
        "id": "qyiCqRZIDSAd",
        "outputId": "681a75fb-f969-4a0e-dfcf-8f966735e7b2"
      },
      "source": [
        "# CIFAR-10 dataset\n",
        "train_dataset = torchvision.datasets.CIFAR10(root='../../data/',\n",
        "                                             train=True, \n",
        "                                             transform=transform,\n",
        "                                             download=True)\n",
        "\n",
        "test_dataset = torchvision.datasets.CIFAR10(root='../../data/',\n",
        "                                            train=False, \n",
        "                                            transform=transforms.ToTensor())"
      ],
      "execution_count": 5,
      "outputs": [
        {
          "output_type": "stream",
          "text": [
            "Downloading https://www.cs.toronto.edu/~kriz/cifar-10-python.tar.gz to ../../data/cifar-10-python.tar.gz\n"
          ],
          "name": "stdout"
        },
        {
          "output_type": "display_data",
          "data": {
            "application/vnd.jupyter.widget-view+json": {
              "model_id": "04f346bf1a2044faa9c75cb8a306e24a",
              "version_minor": 0,
              "version_major": 2
            },
            "text/plain": [
              "HBox(children=(FloatProgress(value=0.0, max=170498071.0), HTML(value='')))"
            ]
          },
          "metadata": {
            "tags": []
          }
        },
        {
          "output_type": "stream",
          "text": [
            "\n",
            "Extracting ../../data/cifar-10-python.tar.gz to ../../data/\n"
          ],
          "name": "stdout"
        }
      ]
    },
    {
      "cell_type": "code",
      "metadata": {
        "id": "W21kgQ6jDR-E"
      },
      "source": [
        "# Data loader\n",
        "train_loader = torch.utils.data.DataLoader(dataset=train_dataset,\n",
        "                                           batch_size=batch_size,\n",
        "                                           shuffle=True)\n",
        "\n",
        "test_loader = torch.utils.data.DataLoader(dataset=test_dataset,\n",
        "                                          batch_size=batch_size,\n",
        "                                          shuffle=False)"
      ],
      "execution_count": 6,
      "outputs": []
    },
    {
      "cell_type": "code",
      "metadata": {
        "id": "YxX75meaDXND"
      },
      "source": [
        "# 3x3 convolution\n",
        "def conv3x3(in_channels, out_channels, stride=1):\n",
        "    return nn.Conv2d(in_channels, out_channels, kernel_size=3, \n",
        "                     stride=stride, padding=1, bias=False)\n"
      ],
      "execution_count": 7,
      "outputs": []
    },
    {
      "cell_type": "code",
      "metadata": {
        "id": "JDknUzzCDXKu"
      },
      "source": [
        "# Residual block\n",
        "class ResidualBlock(nn.Module):\n",
        "    def __init__(self, in_channels, out_channels, stride=1, downsample=None):\n",
        "        super(ResidualBlock, self).__init__()\n",
        "        self.conv1 = conv3x3(in_channels, out_channels, stride)\n",
        "        self.bn1 = nn.BatchNorm2d(out_channels)\n",
        "        self.relu = nn.ReLU(inplace=True)\n",
        "        self.conv2 = conv3x3(out_channels, out_channels)\n",
        "        self.bn2 = nn.BatchNorm2d(out_channels)\n",
        "        self.downsample = downsample\n",
        "        \n",
        "    def forward(self, x):\n",
        "        residual = x\n",
        "        out = self.conv1(x)\n",
        "        out = self.bn1(out)\n",
        "        out = self.relu(out)\n",
        "        out = self.conv2(out)\n",
        "        out = self.bn2(out)\n",
        "        if self.downsample:\n",
        "            residual = self.downsample(x)\n",
        "        out += residual\n",
        "        out = self.relu(out)\n",
        "        return out"
      ],
      "execution_count": 8,
      "outputs": []
    },
    {
      "cell_type": "code",
      "metadata": {
        "id": "WFhHejLpDXHH"
      },
      "source": [
        "# ResNet\n",
        "class ResNet(nn.Module):\n",
        "    def __init__(self, block, layers, num_classes=10):\n",
        "        super(ResNet, self).__init__()\n",
        "        self.in_channels = 16\n",
        "        self.conv = conv3x3(3, 16)\n",
        "        self.bn = nn.BatchNorm2d(16)\n",
        "        self.relu = nn.ReLU(inplace=True)\n",
        "        self.layer1 = self.make_layer(block, 16, layers[0])\n",
        "        self.layer2 = self.make_layer(block, 32, layers[1], 2)\n",
        "        self.layer3 = self.make_layer(block, 64, layers[2], 2)\n",
        "        self.avg_pool = nn.AvgPool2d(8)\n",
        "        self.fc = nn.Linear(64, num_classes)\n",
        "        \n",
        "    def make_layer(self, block, out_channels, blocks, stride=1):\n",
        "        downsample = None\n",
        "        if (stride != 1) or (self.in_channels != out_channels):\n",
        "            downsample = nn.Sequential(\n",
        "                conv3x3(self.in_channels, out_channels, stride=stride),\n",
        "                nn.BatchNorm2d(out_channels))\n",
        "        layers = []\n",
        "        layers.append(block(self.in_channels, out_channels, stride, downsample))\n",
        "        self.in_channels = out_channels\n",
        "        for i in range(1, blocks):\n",
        "            layers.append(block(out_channels, out_channels))\n",
        "        return nn.Sequential(*layers)\n",
        "    \n",
        "    def forward(self, x):\n",
        "        out = self.conv(x)\n",
        "        out = self.bn(out)\n",
        "        out = self.relu(out)\n",
        "        out = self.layer1(out)\n",
        "        out = self.layer2(out)\n",
        "        out = self.layer3(out)\n",
        "        out = self.avg_pool(out)\n",
        "        out = out.view(out.size(0), -1)\n",
        "        out = self.fc(out)\n",
        "        return out\n",
        "    "
      ],
      "execution_count": 9,
      "outputs": []
    },
    {
      "cell_type": "code",
      "metadata": {
        "id": "TO7S7UloDXDp"
      },
      "source": [
        "model = ResNet(ResidualBlock, [2, 2, 2]).to(device)"
      ],
      "execution_count": 10,
      "outputs": []
    },
    {
      "cell_type": "code",
      "metadata": {
        "id": "e8b4VRFoDR7N"
      },
      "source": [
        "# Loss and optimizer\n",
        "criterion = nn.CrossEntropyLoss()\n",
        "optimizer = torch.optim.Adam(model.parameters(), lr=learning_rate)"
      ],
      "execution_count": 11,
      "outputs": []
    },
    {
      "cell_type": "code",
      "metadata": {
        "id": "TDBkPrHRDfdY"
      },
      "source": [
        "# For updating learning rate\n",
        "def update_lr(optimizer, lr):    \n",
        "    for param_group in optimizer.param_groups:\n",
        "        param_group['lr'] = lr\n"
      ],
      "execution_count": 12,
      "outputs": []
    },
    {
      "cell_type": "code",
      "metadata": {
        "colab": {
          "base_uri": "https://localhost:8080/"
        },
        "id": "vqgqQz0KFci4",
        "outputId": "67da6a24-8e2a-45a7-d3d8-47a854e28bd9"
      },
      "source": [
        "total_step = len(train_loader)\n",
        "Loss = []\n",
        "Acc = []\n",
        "Val_Loss = []\n",
        "Val_Acc = []\n",
        "\n",
        "for epoch in range(num_epochs):\n",
        "  acc = 0\n",
        "  val_acc = 0\n",
        "  for i, (images, labels) in enumerate(train_loader):\n",
        "    model.train()\n",
        "    images = images.to(device)\n",
        "    labels = labels.to(device)\n",
        "    \n",
        "    # Forward pass\n",
        "    outputs = model(images)\n",
        "    loss = criterion(outputs, labels)\n",
        "    \n",
        "    # Backward and optimize\n",
        "    optimizer.zero_grad()\n",
        "    loss.backward()\n",
        "    optimizer.step()\n",
        "    \n",
        "    # Checking accuracy\n",
        "    preds = outputs.data.max(dim=1,keepdim=True)[1]\n",
        "    acc += preds.eq(labels.data.view_as(preds)).cpu().sum()\n",
        "    \n",
        "  acc = acc/len(train_loader.dataset) * 100\n",
        "    \n",
        "  for i, (images, labels) in enumerate(test_loader):\n",
        "    model.eval()\n",
        "    images = images.to(device)\n",
        "    labels = labels.to(device)\n",
        "    \n",
        "    # Forward pass\n",
        "    outputs = model(images)\n",
        "    val_loss = criterion(outputs, labels)\n",
        "    \n",
        "    # Checking accuracy\n",
        "    preds = outputs.data.max(dim=1,keepdim=True)[1]\n",
        "    val_acc += preds.eq(labels.data.view_as(preds)).cpu().sum()\n",
        "    \n",
        "  val_acc = val_acc/len(test_loader.dataset) * 100\n",
        "    \n",
        "  print(\"Epoch {} =>  loss : {loss:.2f};   Accuracy : {acc:.2f}%;   Val_loss : {val_loss:.2f};   Val_Accuracy : {val_acc:.2f}%\".format(epoch+1, loss=loss.item(), acc=acc, val_loss=val_loss.item(), val_acc=val_acc))\n",
        "  \n",
        "  Loss.append(loss)\n",
        "  Acc.append(acc)\n",
        "\n",
        "  Val_Loss.append(val_loss)\n",
        "  Val_Acc.append(val_acc)"
      ],
      "execution_count": 13,
      "outputs": [
        {
          "output_type": "stream",
          "text": [
            "Epoch 1 =>  loss : 1.07;   Accuracy : 49.00%;   Val_loss : 1.23;   Val_Accuracy : 56.60%\n",
            "Epoch 2 =>  loss : 0.98;   Accuracy : 64.95%;   Val_loss : 0.94;   Val_Accuracy : 64.51%\n",
            "Epoch 3 =>  loss : 0.80;   Accuracy : 70.72%;   Val_loss : 0.85;   Val_Accuracy : 70.21%\n",
            "Epoch 4 =>  loss : 0.86;   Accuracy : 74.22%;   Val_loss : 0.72;   Val_Accuracy : 72.40%\n",
            "Epoch 5 =>  loss : 0.77;   Accuracy : 76.57%;   Val_loss : 0.71;   Val_Accuracy : 71.27%\n",
            "Epoch 6 =>  loss : 0.65;   Accuracy : 78.42%;   Val_loss : 0.63;   Val_Accuracy : 75.71%\n",
            "Epoch 7 =>  loss : 0.64;   Accuracy : 79.82%;   Val_loss : 0.63;   Val_Accuracy : 74.61%\n",
            "Epoch 8 =>  loss : 0.66;   Accuracy : 81.14%;   Val_loss : 0.61;   Val_Accuracy : 75.23%\n",
            "Epoch 9 =>  loss : 0.53;   Accuracy : 82.11%;   Val_loss : 0.71;   Val_Accuracy : 76.13%\n",
            "Epoch 10 =>  loss : 0.37;   Accuracy : 82.65%;   Val_loss : 0.55;   Val_Accuracy : 80.70%\n",
            "Epoch 11 =>  loss : 0.40;   Accuracy : 83.58%;   Val_loss : 0.41;   Val_Accuracy : 80.01%\n",
            "Epoch 12 =>  loss : 0.43;   Accuracy : 84.30%;   Val_loss : 0.51;   Val_Accuracy : 81.47%\n",
            "Epoch 13 =>  loss : 0.47;   Accuracy : 84.89%;   Val_loss : 0.43;   Val_Accuracy : 83.40%\n",
            "Epoch 14 =>  loss : 0.35;   Accuracy : 85.33%;   Val_loss : 0.54;   Val_Accuracy : 81.92%\n",
            "Epoch 15 =>  loss : 0.29;   Accuracy : 85.85%;   Val_loss : 0.37;   Val_Accuracy : 82.22%\n",
            "Epoch 16 =>  loss : 0.47;   Accuracy : 86.33%;   Val_loss : 0.47;   Val_Accuracy : 83.67%\n",
            "Epoch 17 =>  loss : 0.40;   Accuracy : 86.81%;   Val_loss : 0.44;   Val_Accuracy : 82.60%\n",
            "Epoch 18 =>  loss : 0.28;   Accuracy : 87.23%;   Val_loss : 0.42;   Val_Accuracy : 81.19%\n",
            "Epoch 19 =>  loss : 0.37;   Accuracy : 87.56%;   Val_loss : 0.43;   Val_Accuracy : 83.90%\n",
            "Epoch 20 =>  loss : 0.28;   Accuracy : 87.71%;   Val_loss : 0.44;   Val_Accuracy : 83.05%\n",
            "Epoch 21 =>  loss : 0.25;   Accuracy : 88.29%;   Val_loss : 0.41;   Val_Accuracy : 82.52%\n",
            "Epoch 22 =>  loss : 0.29;   Accuracy : 88.46%;   Val_loss : 0.51;   Val_Accuracy : 81.82%\n",
            "Epoch 23 =>  loss : 0.47;   Accuracy : 88.67%;   Val_loss : 0.46;   Val_Accuracy : 84.07%\n",
            "Epoch 24 =>  loss : 0.34;   Accuracy : 89.06%;   Val_loss : 0.40;   Val_Accuracy : 85.77%\n",
            "Epoch 25 =>  loss : 0.33;   Accuracy : 89.01%;   Val_loss : 0.38;   Val_Accuracy : 83.93%\n",
            "Epoch 26 =>  loss : 0.43;   Accuracy : 89.40%;   Val_loss : 0.41;   Val_Accuracy : 85.45%\n",
            "Epoch 27 =>  loss : 0.33;   Accuracy : 89.76%;   Val_loss : 0.54;   Val_Accuracy : 85.38%\n",
            "Epoch 28 =>  loss : 0.34;   Accuracy : 89.94%;   Val_loss : 0.41;   Val_Accuracy : 82.98%\n",
            "Epoch 29 =>  loss : 0.38;   Accuracy : 90.19%;   Val_loss : 0.47;   Val_Accuracy : 84.89%\n",
            "Epoch 30 =>  loss : 0.23;   Accuracy : 90.45%;   Val_loss : 0.49;   Val_Accuracy : 85.03%\n",
            "Epoch 31 =>  loss : 0.41;   Accuracy : 90.24%;   Val_loss : 0.36;   Val_Accuracy : 85.49%\n",
            "Epoch 32 =>  loss : 0.27;   Accuracy : 90.83%;   Val_loss : 0.50;   Val_Accuracy : 85.77%\n",
            "Epoch 33 =>  loss : 0.30;   Accuracy : 90.94%;   Val_loss : 0.36;   Val_Accuracy : 85.92%\n",
            "Epoch 34 =>  loss : 0.39;   Accuracy : 91.00%;   Val_loss : 0.48;   Val_Accuracy : 85.56%\n",
            "Epoch 35 =>  loss : 0.18;   Accuracy : 90.99%;   Val_loss : 0.45;   Val_Accuracy : 86.13%\n",
            "Epoch 36 =>  loss : 0.23;   Accuracy : 91.34%;   Val_loss : 0.41;   Val_Accuracy : 85.89%\n",
            "Epoch 37 =>  loss : 0.34;   Accuracy : 91.36%;   Val_loss : 0.29;   Val_Accuracy : 86.89%\n",
            "Epoch 38 =>  loss : 0.25;   Accuracy : 91.44%;   Val_loss : 0.41;   Val_Accuracy : 85.38%\n",
            "Epoch 39 =>  loss : 0.22;   Accuracy : 91.77%;   Val_loss : 0.41;   Val_Accuracy : 86.24%\n",
            "Epoch 40 =>  loss : 0.16;   Accuracy : 91.84%;   Val_loss : 0.31;   Val_Accuracy : 87.01%\n",
            "Epoch 41 =>  loss : 0.18;   Accuracy : 91.90%;   Val_loss : 0.41;   Val_Accuracy : 87.22%\n",
            "Epoch 42 =>  loss : 0.15;   Accuracy : 91.96%;   Val_loss : 0.35;   Val_Accuracy : 86.50%\n",
            "Epoch 43 =>  loss : 0.36;   Accuracy : 92.23%;   Val_loss : 0.35;   Val_Accuracy : 86.23%\n",
            "Epoch 44 =>  loss : 0.29;   Accuracy : 92.26%;   Val_loss : 0.46;   Val_Accuracy : 85.98%\n",
            "Epoch 45 =>  loss : 0.08;   Accuracy : 92.65%;   Val_loss : 0.49;   Val_Accuracy : 86.62%\n",
            "Epoch 46 =>  loss : 0.37;   Accuracy : 92.71%;   Val_loss : 0.46;   Val_Accuracy : 85.68%\n",
            "Epoch 47 =>  loss : 0.17;   Accuracy : 92.70%;   Val_loss : 0.36;   Val_Accuracy : 86.70%\n",
            "Epoch 48 =>  loss : 0.15;   Accuracy : 92.75%;   Val_loss : 0.40;   Val_Accuracy : 86.86%\n",
            "Epoch 49 =>  loss : 0.13;   Accuracy : 92.79%;   Val_loss : 0.34;   Val_Accuracy : 86.43%\n",
            "Epoch 50 =>  loss : 0.14;   Accuracy : 92.93%;   Val_loss : 0.43;   Val_Accuracy : 85.91%\n",
            "Epoch 51 =>  loss : 0.32;   Accuracy : 93.03%;   Val_loss : 0.38;   Val_Accuracy : 87.11%\n",
            "Epoch 52 =>  loss : 0.28;   Accuracy : 93.28%;   Val_loss : 0.47;   Val_Accuracy : 85.97%\n",
            "Epoch 53 =>  loss : 0.14;   Accuracy : 93.19%;   Val_loss : 0.46;   Val_Accuracy : 86.32%\n",
            "Epoch 54 =>  loss : 0.15;   Accuracy : 93.26%;   Val_loss : 0.42;   Val_Accuracy : 87.24%\n",
            "Epoch 55 =>  loss : 0.09;   Accuracy : 93.47%;   Val_loss : 0.42;   Val_Accuracy : 87.64%\n",
            "Epoch 56 =>  loss : 0.14;   Accuracy : 93.58%;   Val_loss : 0.45;   Val_Accuracy : 86.91%\n",
            "Epoch 57 =>  loss : 0.18;   Accuracy : 93.66%;   Val_loss : 0.33;   Val_Accuracy : 87.40%\n",
            "Epoch 58 =>  loss : 0.35;   Accuracy : 93.91%;   Val_loss : 0.32;   Val_Accuracy : 86.42%\n",
            "Epoch 59 =>  loss : 0.18;   Accuracy : 93.86%;   Val_loss : 0.34;   Val_Accuracy : 87.82%\n",
            "Epoch 60 =>  loss : 0.12;   Accuracy : 94.07%;   Val_loss : 0.61;   Val_Accuracy : 87.80%\n",
            "Epoch 61 =>  loss : 0.10;   Accuracy : 93.77%;   Val_loss : 0.46;   Val_Accuracy : 87.16%\n",
            "Epoch 62 =>  loss : 0.10;   Accuracy : 93.89%;   Val_loss : 0.49;   Val_Accuracy : 87.20%\n",
            "Epoch 63 =>  loss : 0.21;   Accuracy : 94.03%;   Val_loss : 0.46;   Val_Accuracy : 87.58%\n",
            "Epoch 64 =>  loss : 0.18;   Accuracy : 94.08%;   Val_loss : 0.40;   Val_Accuracy : 87.03%\n",
            "Epoch 65 =>  loss : 0.22;   Accuracy : 94.13%;   Val_loss : 0.52;   Val_Accuracy : 87.06%\n",
            "Epoch 66 =>  loss : 0.12;   Accuracy : 94.36%;   Val_loss : 0.44;   Val_Accuracy : 87.92%\n",
            "Epoch 67 =>  loss : 0.22;   Accuracy : 94.39%;   Val_loss : 0.34;   Val_Accuracy : 87.76%\n",
            "Epoch 68 =>  loss : 0.27;   Accuracy : 94.24%;   Val_loss : 0.55;   Val_Accuracy : 87.71%\n",
            "Epoch 69 =>  loss : 0.09;   Accuracy : 94.40%;   Val_loss : 0.53;   Val_Accuracy : 87.39%\n",
            "Epoch 70 =>  loss : 0.12;   Accuracy : 94.53%;   Val_loss : 0.47;   Val_Accuracy : 86.96%\n",
            "Epoch 71 =>  loss : 0.28;   Accuracy : 94.70%;   Val_loss : 0.45;   Val_Accuracy : 87.40%\n",
            "Epoch 72 =>  loss : 0.20;   Accuracy : 94.67%;   Val_loss : 0.47;   Val_Accuracy : 87.79%\n",
            "Epoch 73 =>  loss : 0.13;   Accuracy : 94.77%;   Val_loss : 0.41;   Val_Accuracy : 87.38%\n",
            "Epoch 74 =>  loss : 0.11;   Accuracy : 94.87%;   Val_loss : 0.34;   Val_Accuracy : 87.16%\n",
            "Epoch 75 =>  loss : 0.18;   Accuracy : 94.81%;   Val_loss : 0.29;   Val_Accuracy : 87.70%\n",
            "Epoch 76 =>  loss : 0.30;   Accuracy : 94.92%;   Val_loss : 0.32;   Val_Accuracy : 88.01%\n",
            "Epoch 77 =>  loss : 0.26;   Accuracy : 94.83%;   Val_loss : 0.48;   Val_Accuracy : 87.17%\n",
            "Epoch 78 =>  loss : 0.11;   Accuracy : 94.92%;   Val_loss : 0.43;   Val_Accuracy : 88.02%\n",
            "Epoch 79 =>  loss : 0.09;   Accuracy : 95.08%;   Val_loss : 0.31;   Val_Accuracy : 87.49%\n",
            "Epoch 80 =>  loss : 0.14;   Accuracy : 95.12%;   Val_loss : 0.41;   Val_Accuracy : 87.13%\n",
            "Epoch 81 =>  loss : 0.20;   Accuracy : 95.26%;   Val_loss : 0.46;   Val_Accuracy : 87.70%\n",
            "Epoch 82 =>  loss : 0.21;   Accuracy : 95.27%;   Val_loss : 0.39;   Val_Accuracy : 87.53%\n",
            "Epoch 83 =>  loss : 0.10;   Accuracy : 95.37%;   Val_loss : 0.40;   Val_Accuracy : 86.72%\n",
            "Epoch 84 =>  loss : 0.22;   Accuracy : 95.30%;   Val_loss : 0.41;   Val_Accuracy : 88.18%\n",
            "Epoch 85 =>  loss : 0.13;   Accuracy : 95.28%;   Val_loss : 0.35;   Val_Accuracy : 87.66%\n",
            "Epoch 86 =>  loss : 0.09;   Accuracy : 95.33%;   Val_loss : 0.39;   Val_Accuracy : 87.11%\n",
            "Epoch 87 =>  loss : 0.12;   Accuracy : 95.33%;   Val_loss : 0.33;   Val_Accuracy : 87.90%\n",
            "Epoch 88 =>  loss : 0.15;   Accuracy : 95.49%;   Val_loss : 0.28;   Val_Accuracy : 86.02%\n",
            "Epoch 89 =>  loss : 0.08;   Accuracy : 95.52%;   Val_loss : 0.54;   Val_Accuracy : 87.75%\n",
            "Epoch 90 =>  loss : 0.11;   Accuracy : 95.50%;   Val_loss : 0.34;   Val_Accuracy : 87.65%\n",
            "Epoch 91 =>  loss : 0.16;   Accuracy : 95.54%;   Val_loss : 0.41;   Val_Accuracy : 87.72%\n",
            "Epoch 92 =>  loss : 0.17;   Accuracy : 95.52%;   Val_loss : 0.43;   Val_Accuracy : 87.34%\n",
            "Epoch 93 =>  loss : 0.17;   Accuracy : 95.72%;   Val_loss : 0.45;   Val_Accuracy : 88.35%\n",
            "Epoch 94 =>  loss : 0.06;   Accuracy : 95.67%;   Val_loss : 0.30;   Val_Accuracy : 87.92%\n",
            "Epoch 95 =>  loss : 0.13;   Accuracy : 95.75%;   Val_loss : 0.41;   Val_Accuracy : 87.28%\n",
            "Epoch 96 =>  loss : 0.14;   Accuracy : 95.72%;   Val_loss : 0.45;   Val_Accuracy : 87.58%\n",
            "Epoch 97 =>  loss : 0.10;   Accuracy : 95.86%;   Val_loss : 0.32;   Val_Accuracy : 87.46%\n",
            "Epoch 98 =>  loss : 0.12;   Accuracy : 95.88%;   Val_loss : 0.55;   Val_Accuracy : 87.29%\n",
            "Epoch 99 =>  loss : 0.08;   Accuracy : 95.92%;   Val_loss : 0.47;   Val_Accuracy : 88.02%\n",
            "Epoch 100 =>  loss : 0.13;   Accuracy : 95.88%;   Val_loss : 0.44;   Val_Accuracy : 87.70%\n"
          ],
          "name": "stdout"
        }
      ]
    },
    {
      "cell_type": "code",
      "metadata": {
        "id": "y5AQGO0-Nyju"
      },
      "source": [
        "import matplotlib.pyplot as plt"
      ],
      "execution_count": 14,
      "outputs": []
    },
    {
      "cell_type": "code",
      "metadata": {
        "colab": {
          "base_uri": "https://localhost:8080/",
          "height": 295
        },
        "id": "UOK_5l_lDfZR",
        "outputId": "26e6a938-8f46-4fdd-8bd9-e74460cbc31d"
      },
      "source": [
        "plt.plot(range(num_epochs),Loss)\n",
        "plt.plot(range(num_epochs),Val_Loss)\n",
        "plt.ylabel('Loss')\n",
        "plt.xlabel('Epoch')\n",
        "plt.title(\"ADAM Loss\")\n",
        "plt.legend([\"Training Loss\", \"Validation Loss\"])\n",
        "plt.show()"
      ],
      "execution_count": 15,
      "outputs": [
        {
          "output_type": "display_data",
          "data": {
            "image/png": "[encoded data removed]",
            "text/plain": [
              "<Figure size 432x288 with 1 Axes>"
            ]
          },
          "metadata": {
            "tags": [],
            "needs_background": "light"
          }
        }
      ]
    },
    {
      "cell_type": "code",
      "metadata": {
        "colab": {
          "base_uri": "https://localhost:8080/",
          "height": 295
        },
        "id": "RvyaGqheDfV1",
        "outputId": "9d3b7579-c45b-41b5-f165-7b03a5f851f4"
      },
      "source": [
        "plt.plot(range(num_epochs),Acc)\n",
        "plt.plot(range(num_epochs),Val_Acc)\n",
        "plt.ylabel('Accuracy')\n",
        "plt.xlabel('Epoch')\n",
        "plt.title(\"ADAM Accuracy\")\n",
        "plt.legend([\"Training Accuracy\", \"Validation Accuracy\"])\n",
        "plt.show()"
      ],
      "execution_count": 16,
      "outputs": [
        {
          "output_type": "display_data",
          "data": {
            "image/png": "[encoded data removed]",
            "text/plain": [
              "<Figure size 432x288 with 1 Axes>"
            ]
          },
          "metadata": {
            "tags": [],
            "needs_background": "light"
          }
        }
      ]
    }
  ]
}