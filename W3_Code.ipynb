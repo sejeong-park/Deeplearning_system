{
  "nbformat": 4,
  "nbformat_minor": 0,
  "metadata": {
    "colab": {
      "name": "W3_Code",
      "provenance": [],
      "authorship_tag": "ABX9TyNidBFtig0f2ghqFd/kuRSE",
      "include_colab_link": true
    },
    "kernelspec": {
      "name": "python3",
      "display_name": "Python 3"
    }
  },
  "cells": [
    {
      "cell_type": "markdown",
      "metadata": {
        "id": "view-in-github",
        "colab_type": "text"
      },
      "source": [
        "<a href=\"https://colab.research.google.com/github/sejeong-park/Deeplearning_system/blob/main/W3_Code.ipynb\" target=\"_parent\"><img src=\"https://colab.research.google.com/assets/colab-badge.svg\" alt=\"Open In Colab\"/></a>"
      ]
    },
    {
      "cell_type": "code",
      "metadata": {
        "id": "n0mmYSouQVtX"
      },
      "source": [
        "import numpy as np\r\n",
        "import random\r\n",
        "from matplotlib import pyplot as plt\r\n"
      ],
      "execution_count": 1,
      "outputs": []
    },
    {
      "cell_type": "code",
      "metadata": {
        "id": "W_WR5SbEQhCp"
      },
      "source": [
        "def data_gen(no_var,b,variance):\r\n",
        "  x=np.ones(shape=(no_var,2)) # bias 텀\r\n",
        "  y=np.zeros(shape=no_var) #y는 벡터\r\n",
        "  for i in range(0,no_var):\r\n",
        "    x[i][1]=i\r\n",
        "    y[i]=b+i+variance+random.uniform(0,1)*10 #랜덤한 데이터를 제너럴레이션하는 과정\r\n",
        "  return x,y\r\n"
      ],
      "execution_count": 6,
      "outputs": []
    },
    {
      "cell_type": "code",
      "metadata": {
        "id": "Lc-INAQZQhFl"
      },
      "source": [
        "no_var=50 #50개의 데이터를\r\n",
        "b=2\r\n",
        "variance=1.2\r\n",
        "x,y=data_gen(no_var,b,variance)"
      ],
      "execution_count": 7,
      "outputs": []
    },
    {
      "cell_type": "code",
      "metadata": {
        "id": "UPVBcpG8QhK1"
      },
      "source": [
        "def gradient_descent(x,y,no_var,r,no_iter):\r\n",
        "  w=np.ones(2) # bias 포함한 input feature -> w0,w1\r\n",
        "  J=0\r\n",
        "  for i in range(0,no_iter):\r\n",
        "    h=np.dot(x,w)\r\n",
        "    J=1/2*np.sum((h-y)**2)/no_var\r\n",
        "    w=w-r*np.dot(x.transpose(),(h-y))/no_var\r\n",
        "    if i==no_iter-1:\r\n",
        "      print(\"Cost is {}| Weight are {}\".format(J,w))\r\n",
        "  return x,y,w"
      ],
      "execution_count": 16,
      "outputs": []
    },
    {
      "cell_type": "code",
      "metadata": {
        "colab": {
          "base_uri": "https://localhost:8080/",
          "height": 334
        },
        "id": "U07N16yFQhOa",
        "outputId": "30f62ebd-52b2-4679-df93-160f535b5c21"
      },
      "source": [
        "no_iter=1\r\n",
        "r=0.0001\r\n",
        "x,y,w=gradient_descent(x,y,no_var,r,no_iter)\r\n",
        "plt.plot(x[:,1],y,\"ko\")\r\n",
        "plt.plot([i for i in range(50)],[i+j for i,j in x*w],\"b--\",label=\"After 1 update\")\r\n",
        "no_iter=100000\r\n",
        "x,y,w=gradient_descent(x,y,no_var,r,no_iter)\r\n",
        "plt.plot([i for i in range(50)],[i+j for i,j in x*w],\"r--\",label=\"After {} update\".format(no_iter))\r\n",
        "plt.legend\r\n",
        "plt.xlabel(\"$w_1$\")\r\n",
        "plt.ylabel(\"$h(w)$\")\r\n"
      ],
      "execution_count": 17,
      "outputs": [
        {
          "output_type": "stream",
          "text": [
            "Cost is 30.237053554967723| Weight are [1.00071566 1.01782714]\n",
            "Cost is 4.642662430022051| Weight are [7.29229016 1.02982608]\n"
          ],
          "name": "stdout"
        },
        {
          "output_type": "execute_result",
          "data": {
            "text/plain": [
              "Text(0, 0.5, '$h(w)$')"
            ]
          },
          "metadata": {
            "tags": []
          },
          "execution_count": 17
        },
        {
          "output_type": "display_data",
          "data": {
            "image/png": "[encoded data removed]",
            "text/plain": [
              "<Figure size 432x288 with 1 Axes>"
            ]
          },
          "metadata": {
            "tags": [],
            "needs_background": "light"
          }
        }
      ]
    },
    {
      "cell_type": "code",
      "metadata": {
        "id": "PtfOvr8-atjX"
      },
      "source": [
        ""
      ],
      "execution_count": null,
      "outputs": []
    },
    {
      "cell_type": "code",
      "metadata": {
        "id": "eg6szjxtathO"
      },
      "source": [
        ""
      ],
      "execution_count": null,
      "outputs": []
    },
    {
      "cell_type": "code",
      "metadata": {
        "id": "NNUkN22Xateu"
      },
      "source": [
        ""
      ],
      "execution_count": null,
      "outputs": []
    },
    {
      "cell_type": "code",
      "metadata": {
        "id": "iC0zpmj1atbh"
      },
      "source": [
        ""
      ],
      "execution_count": null,
      "outputs": []
    },
    {
      "cell_type": "code",
      "metadata": {
        "id": "jLfS5A_yatT9"
      },
      "source": [
        ""
      ],
      "execution_count": null,
      "outputs": []
    }
  ]
}