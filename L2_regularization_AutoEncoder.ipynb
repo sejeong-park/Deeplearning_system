{
  "nbformat": 4,
  "nbformat_minor": 0,
  "metadata": {
    "colab": {
      "name": "L2_regularization_AutoEncoder",
      "provenance": [],
      "authorship_tag": "ABX9TyN96e/KmNqRSON9Dbyob7MC",
      "include_colab_link": true
    },
    "kernelspec": {
      "name": "python3",
      "display_name": "Python 3"
    },
    "language_info": {
      "name": "python"
    }
  },
  "cells": [
    {
      "cell_type": "markdown",
      "metadata": {
        "id": "view-in-github",
        "colab_type": "text"
      },
      "source": [
        "<a href=\"https://colab.research.google.com/github/sejeong-park/Deeplearning_system/blob/main/L2_regularization_AutoEncoder.ipynb\" target=\"_parent\"><img src=\"https://colab.research.google.com/assets/colab-badge.svg\" alt=\"Open In Colab\"/></a>"
      ]
    },
    {
      "cell_type": "code",
      "metadata": {
        "id": "7NpH1cqfSC-m"
      },
      "source": [
        "#autoencoder\n",
        "import numpy as np\n",
        "import pandas as pd\n",
        "import tensorflow as tf\n",
        "from sklearn.metrics import accuracy_score,precision_score,recall_score\n",
        "from sklearn.model_selection import train_test_split\n",
        "from tensorflow.keras import layers,losses\n",
        "from tensorflow.keras.datasets import mnist\n",
        "from tensorflow.keras.models import Model\n",
        "from matplotlib import pyplot as plt"
      ],
      "execution_count": 26,
      "outputs": []
    },
    {
      "cell_type": "code",
      "metadata": {
        "colab": {
          "base_uri": "https://localhost:8080/"
        },
        "id": "neKW56o7SrVb",
        "outputId": "72cc60d5-c697-4dee-e91e-09307cdbc3a5"
      },
      "source": [
        "(x_train, _),(x_test, _)=mnist.load_data()\n",
        "x_train=x_train.astype('float32')/255.\n",
        "x_test=x_test.astype('float32')/255.\n",
        "\n",
        "print(x_train.shape)\n",
        "print(x_test.shape)"
      ],
      "execution_count": 17,
      "outputs": [
        {
          "output_type": "stream",
          "text": [
            "(60000, 28, 28)\n",
            "(10000, 28, 28)\n"
          ],
          "name": "stdout"
        }
      ]
    },
    {
      "cell_type": "code",
      "metadata": {
        "id": "Ug1A4j_pS7nE"
      },
      "source": [
        "hid_dim=128\n",
        "\n",
        "class Autoencoder(Model):\n",
        "  def __init__(self,hid_dim):\n",
        "    super(Autoencoder,self).__init__()\n",
        "    self.hid_dim=hid_dim\n",
        "    self.encoder=tf.keras.Sequential([layers.Flatten(),\n",
        "                                      layers.Dense(hid_dim,activation='relu'),])\n",
        "    self.decoder=tf.keras.Sequential([layers.Dense(28*28,activation='sigmoid'),\n",
        "                                      layers.Reshape((28,28))])\n",
        "  def call(self,x):\n",
        "    encoded=self.encoder(x)\n",
        "    decoded=self.decoder(encoded)\n",
        "    return decoded\n",
        "\n",
        "autoencoder=Autoencoder(hid_dim)"
      ],
      "execution_count": 18,
      "outputs": []
    },
    {
      "cell_type": "code",
      "metadata": {
        "id": "XuoPyawoSwO5"
      },
      "source": [
        "autoencoder.compile(optimizer='adam',loss=losses.MeanSquaredError())\n"
      ],
      "execution_count": 19,
      "outputs": []
    },
    {
      "cell_type": "code",
      "metadata": {
        "colab": {
          "base_uri": "https://localhost:8080/"
        },
        "id": "NxHRaI9OSrSp",
        "outputId": "9744c8d0-5dc2-42b3-c52a-8f8ad449781f"
      },
      "source": [
        "autoencoder.fit(x_train,x_train,\n",
        "                epochs=10,\n",
        "                shuffle=True,\n",
        "                validation_data=(x_test,x_test))"
      ],
      "execution_count": 21,
      "outputs": [
        {
          "output_type": "stream",
          "text": [
            "Epoch 1/10\n",
            "1875/1875 [==============================] - 7s 4ms/step - loss: 0.0356 - val_loss: 0.0053\n",
            "Epoch 2/10\n",
            "1875/1875 [==============================] - 7s 3ms/step - loss: 0.0046 - val_loss: 0.0031\n",
            "Epoch 3/10\n",
            "1875/1875 [==============================] - 6s 3ms/step - loss: 0.0029 - val_loss: 0.0025\n",
            "Epoch 4/10\n",
            "1875/1875 [==============================] - 6s 3ms/step - loss: 0.0024 - val_loss: 0.0021\n",
            "Epoch 5/10\n",
            "1875/1875 [==============================] - 6s 3ms/step - loss: 0.0021 - val_loss: 0.0020\n",
            "Epoch 6/10\n",
            "1875/1875 [==============================] - 6s 3ms/step - loss: 0.0020 - val_loss: 0.0018\n",
            "Epoch 7/10\n",
            "1875/1875 [==============================] - 6s 3ms/step - loss: 0.0018 - val_loss: 0.0018\n",
            "Epoch 8/10\n",
            "1875/1875 [==============================] - 7s 3ms/step - loss: 0.0018 - val_loss: 0.0017\n",
            "Epoch 9/10\n",
            "1875/1875 [==============================] - 7s 3ms/step - loss: 0.0017 - val_loss: 0.0017\n",
            "Epoch 10/10\n",
            "1875/1875 [==============================] - 7s 4ms/step - loss: 0.0017 - val_loss: 0.0017\n"
          ],
          "name": "stdout"
        },
        {
          "output_type": "execute_result",
          "data": {
            "text/plain": [
              "<tensorflow.python.keras.callbacks.History at 0x7fdc3276b490>"
            ]
          },
          "metadata": {
            "tags": []
          },
          "execution_count": 21
        }
      ]
    },
    {
      "cell_type": "code",
      "metadata": {
        "id": "LT6_WU_3SrQP"
      },
      "source": [
        "encoded_imgs=autoencoder.encoder(x_test).numpy()\n",
        "decoded_imgs=autoencoder.decoder(encoded_imgs).numpy()"
      ],
      "execution_count": 22,
      "outputs": []
    },
    {
      "cell_type": "code",
      "metadata": {
        "colab": {
          "base_uri": "https://localhost:8080/",
          "height": 199
        },
        "id": "AemPAllmSrOI",
        "outputId": "f8dcf847-8769-46c2-acfd-0bbfbfd78536"
      },
      "source": [
        "\n",
        "no=6\n",
        "plt.figure(figsize=(15,4))\n",
        "for i in range(no):\n",
        "  ax=plt.subplot(2,no,i+1)\n",
        "  plt.imshow(x_test[i])\n",
        "  plt.gray()\n",
        "  ax.get_xaxis().set_visible(False)\n",
        "  ax.get_yaxis().set_visible(False)\n",
        "\n",
        "  ax= plt.subplot(2,no,i+1+no)\n",
        "  plt.imshow(decoded_imgs[i])\n",
        "  plt.gray()\n",
        "  ax.get_xaxis().set_visible(False)\n",
        "  ax.get_yaxis().set_visible(False)\n",
        "plt.show()"
      ],
      "execution_count": 30,
      "outputs": [
        {
          "output_type": "display_data",
          "data": {
            "image/png": "[encoded data removed]",
            "text/plain": [
              "<Figure size 1080x288 with 12 Axes>"
            ]
          },
          "metadata": {
            "tags": [],
            "needs_background": "light"
          }
        }
      ]
    }
  ]
}