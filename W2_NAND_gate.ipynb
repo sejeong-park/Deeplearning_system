{
  "nbformat": 4,
  "nbformat_minor": 0,
  "metadata": {
    "colab": {
      "name": "W2-NAND gate",
      "provenance": [],
      "authorship_tag": "ABX9TyNzS8UC2AZWSGfsMGK+aKBV",
      "include_colab_link": true
    },
    "kernelspec": {
      "name": "python3",
      "display_name": "Python 3"
    }
  },
  "cells": [
    {
      "cell_type": "markdown",
      "metadata": {
        "id": "view-in-github",
        "colab_type": "text"
      },
      "source": [
        "<a href=\"https://colab.research.google.com/github/sejeong-park/Deeplearning_system/blob/main/W2_NAND_gate.ipynb\" target=\"_parent\"><img src=\"https://colab.research.google.com/assets/colab-badge.svg\" alt=\"Open In Colab\"/></a>"
      ]
    },
    {
      "cell_type": "code",
      "metadata": {
        "id": "4HLucM2wna6K"
      },
      "source": [
        "import numpy as np\r\n"
      ],
      "execution_count": 1,
      "outputs": []
    },
    {
      "cell_type": "code",
      "metadata": {
        "id": "h_OHJNrunhjV"
      },
      "source": [
        "def perceptron(x,w,b):\r\n",
        "  weighted_sum=np.dot(w,x)+b\r\n",
        "\r\n",
        "  if weighted_sum>=0:\r\n",
        "    a=1\r\n",
        "  else:\r\n",
        "    a=0\r\n",
        "    \r\n",
        "  return a"
      ],
      "execution_count": 2,
      "outputs": []
    },
    {
      "cell_type": "code",
      "metadata": {
        "id": "tGIRp1yinhnk"
      },
      "source": [
        "def and_gate(x1,x2):\r\n",
        "  w=np.array([2,2])\r\n",
        "  x=np.array([x1,x2])\r\n",
        "  b=-3\r\n",
        "  return perceptron(w,x,b)"
      ],
      "execution_count": 3,
      "outputs": []
    },
    {
      "cell_type": "code",
      "metadata": {
        "id": "jr4Tl23zp02R"
      },
      "source": [
        "def nand_gate(x1,x2):\r\n",
        "  w=np.array([-2,-2])\r\n",
        "  x=np.array([x1,x2])\r\n",
        "  b=3\r\n",
        "  return perceptron(w,x,b)"
      ],
      "execution_count": 6,
      "outputs": []
    },
    {
      "cell_type": "code",
      "metadata": {
        "colab": {
          "base_uri": "https://localhost:8080/"
        },
        "id": "r9fsgHJanhrX",
        "outputId": "867bea9c-cac7-4241-eafb-cfc59c19e6c6"
      },
      "source": [
        "in_zero=0\r\n",
        "in_one=1\r\n",
        "\r\n",
        "print(\"{} AND {} is {}\".format(in_zero,in_zero,and_gate(in_zero,in_zero)))\r\n",
        "print(\"{} AND {} is {}\".format(in_zero,in_one,and_gate(in_zero,in_one)))\r\n",
        "print(\"{} AND {} is {}\".format(in_one,in_zero,and_gate(in_one,in_zero)))\r\n",
        "print(\"{} AND {} is {}\".format(in_one,in_one,and_gate(in_one,in_one)))"
      ],
      "execution_count": 5,
      "outputs": [
        {
          "output_type": "stream",
          "text": [
            "0 AND 0 is 0\n",
            "0 AND 1 is 0\n",
            "1 AND 0 is 0\n",
            "1 AND 1 is 1\n"
          ],
          "name": "stdout"
        }
      ]
    },
    {
      "cell_type": "code",
      "metadata": {
        "colab": {
          "base_uri": "https://localhost:8080/"
        },
        "id": "aT_ePrManhtL",
        "outputId": "0f35badf-2929-4a55-d8a2-a7afbc212716"
      },
      "source": [
        "in_zero=0\r\n",
        "in_one=1\r\n",
        "\r\n",
        "print(\"{} AND {} is {}\".format(in_zero,in_zero,nand_gate(in_zero,in_zero)))\r\n",
        "print(\"{} AND {} is {}\".format(in_zero,in_one,nand_gate(in_zero,in_one)))\r\n",
        "print(\"{} AND {} is {}\".format(in_one,in_zero,nand_gate(in_one,in_zero)))\r\n",
        "print(\"{} AND {} is {}\".format(in_one,in_one,nand_gate(in_one,in_one)))"
      ],
      "execution_count": 7,
      "outputs": [
        {
          "output_type": "stream",
          "text": [
            "0 AND 0 is 1\n",
            "0 AND 1 is 1\n",
            "1 AND 0 is 1\n",
            "1 AND 1 is 0\n"
          ],
          "name": "stdout"
        }
      ]
    },
    {
      "cell_type": "code",
      "metadata": {
        "id": "I1GWKEWRqTPt"
      },
      "source": [
        ""
      ],
      "execution_count": null,
      "outputs": []
    },
    {
      "cell_type": "code",
      "metadata": {
        "id": "5CDC1ZLoqTNd"
      },
      "source": [
        ""
      ],
      "execution_count": null,
      "outputs": []
    },
    {
      "cell_type": "code",
      "metadata": {
        "id": "7GDzXmKeqTKy"
      },
      "source": [
        ""
      ],
      "execution_count": null,
      "outputs": []
    },
    {
      "cell_type": "code",
      "metadata": {
        "id": "todrOtFNqTHl"
      },
      "source": [
        ""
      ],
      "execution_count": null,
      "outputs": []
    }
  ]
}