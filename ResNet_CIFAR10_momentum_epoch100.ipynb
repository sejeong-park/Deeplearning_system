{
  "nbformat": 4,
  "nbformat_minor": 0,
  "metadata": {
    "colab": {
      "name": "ResNet_CIFAR10_momentum_epoch100",
      "provenance": [],
      "authorship_tag": "ABX9TyMl9ts3j5SdPYlJu1TibJES",
      "include_colab_link": true
    },
    "kernelspec": {
      "name": "python3",
      "display_name": "Python 3"
    },
    "language_info": {
      "name": "python"
    },
    "accelerator": "GPU",
    "widgets": {
      "application/vnd.jupyter.widget-state+json": {
        "6c6f56bc5acc4042beaa3727904c926e": {
          "model_module": "@jupyter-widgets/controls",
          "model_name": "HBoxModel",
          "state": {
            "_view_name": "HBoxView",
            "_dom_classes": [],
            "_model_name": "HBoxModel",
            "_view_module": "@jupyter-widgets/controls",
            "_model_module_version": "1.5.0",
            "_view_count": null,
            "_view_module_version": "1.5.0",
            "box_style": "",
            "layout": "IPY_MODEL_92c5db8c189e49f395c2dc65edd8673d",
            "_model_module": "@jupyter-widgets/controls",
            "children": [
              "IPY_MODEL_7e45944917fb45328cda88200bdd6f2e",
              "IPY_MODEL_87ac01ffabd94e329eb333f1399da1d0"
            ]
          }
        },
        "92c5db8c189e49f395c2dc65edd8673d": {
          "model_module": "@jupyter-widgets/base",
          "model_name": "LayoutModel",
          "state": {
            "_view_name": "LayoutView",
            "grid_template_rows": null,
            "right": null,
            "justify_content": null,
            "_view_module": "@jupyter-widgets/base",
            "overflow": null,
            "_model_module_version": "1.2.0",
            "_view_count": null,
            "flex_flow": null,
            "width": null,
            "min_width": null,
            "border": null,
            "align_items": null,
            "bottom": null,
            "_model_module": "@jupyter-widgets/base",
            "top": null,
            "grid_column": null,
            "overflow_y": null,
            "overflow_x": null,
            "grid_auto_flow": null,
            "grid_area": null,
            "grid_template_columns": null,
            "flex": null,
            "_model_name": "LayoutModel",
            "justify_items": null,
            "grid_row": null,
            "max_height": null,
            "align_content": null,
            "visibility": null,
            "align_self": null,
            "height": null,
            "min_height": null,
            "padding": null,
            "grid_auto_rows": null,
            "grid_gap": null,
            "max_width": null,
            "order": null,
            "_view_module_version": "1.2.0",
            "grid_template_areas": null,
            "object_position": null,
            "object_fit": null,
            "grid_auto_columns": null,
            "margin": null,
            "display": null,
            "left": null
          }
        },
        "7e45944917fb45328cda88200bdd6f2e": {
          "model_module": "@jupyter-widgets/controls",
          "model_name": "FloatProgressModel",
          "state": {
            "_view_name": "ProgressView",
            "style": "IPY_MODEL_418fc4502ebe495cb884fa259c426a9c",
            "_dom_classes": [],
            "description": "",
            "_model_name": "FloatProgressModel",
            "bar_style": "success",
            "max": 170498071,
            "_view_module": "@jupyter-widgets/controls",
            "_model_module_version": "1.5.0",
            "value": 170498071,
            "_view_count": null,
            "_view_module_version": "1.5.0",
            "orientation": "horizontal",
            "min": 0,
            "description_tooltip": null,
            "_model_module": "@jupyter-widgets/controls",
            "layout": "IPY_MODEL_3e9af11094b84882977451e6c62bccc8"
          }
        },
        "87ac01ffabd94e329eb333f1399da1d0": {
          "model_module": "@jupyter-widgets/controls",
          "model_name": "HTMLModel",
          "state": {
            "_view_name": "HTMLView",
            "style": "IPY_MODEL_761b6e281932469c85d26343ad87a2c1",
            "_dom_classes": [],
            "description": "",
            "_model_name": "HTMLModel",
            "placeholder": "​",
            "_view_module": "@jupyter-widgets/controls",
            "_model_module_version": "1.5.0",
            "value": " 170499072/? [33:22&lt;00:00, 85163.26it/s]",
            "_view_count": null,
            "_view_module_version": "1.5.0",
            "description_tooltip": null,
            "_model_module": "@jupyter-widgets/controls",
            "layout": "IPY_MODEL_5cd5c10c504c485882998750c8839e6f"
          }
        },
        "418fc4502ebe495cb884fa259c426a9c": {
          "model_module": "@jupyter-widgets/controls",
          "model_name": "ProgressStyleModel",
          "state": {
            "_view_name": "StyleView",
            "_model_name": "ProgressStyleModel",
            "description_width": "initial",
            "_view_module": "@jupyter-widgets/base",
            "_model_module_version": "1.5.0",
            "_view_count": null,
            "_view_module_version": "1.2.0",
            "bar_color": null,
            "_model_module": "@jupyter-widgets/controls"
          }
        },
        "3e9af11094b84882977451e6c62bccc8": {
          "model_module": "@jupyter-widgets/base",
          "model_name": "LayoutModel",
          "state": {
            "_view_name": "LayoutView",
            "grid_template_rows": null,
            "right": null,
            "justify_content": null,
            "_view_module": "@jupyter-widgets/base",
            "overflow": null,
            "_model_module_version": "1.2.0",
            "_view_count": null,
            "flex_flow": null,
            "width": null,
            "min_width": null,
            "border": null,
            "align_items": null,
            "bottom": null,
            "_model_module": "@jupyter-widgets/base",
            "top": null,
            "grid_column": null,
            "overflow_y": null,
            "overflow_x": null,
            "grid_auto_flow": null,
            "grid_area": null,
            "grid_template_columns": null,
            "flex": null,
            "_model_name": "LayoutModel",
            "justify_items": null,
            "grid_row": null,
            "max_height": null,
            "align_content": null,
            "visibility": null,
            "align_self": null,
            "height": null,
            "min_height": null,
            "padding": null,
            "grid_auto_rows": null,
            "grid_gap": null,
            "max_width": null,
            "order": null,
            "_view_module_version": "1.2.0",
            "grid_template_areas": null,
            "object_position": null,
            "object_fit": null,
            "grid_auto_columns": null,
            "margin": null,
            "display": null,
            "left": null
          }
        },
        "761b6e281932469c85d26343ad87a2c1": {
          "model_module": "@jupyter-widgets/controls",
          "model_name": "DescriptionStyleModel",
          "state": {
            "_view_name": "StyleView",
            "_model_name": "DescriptionStyleModel",
            "description_width": "",
            "_view_module": "@jupyter-widgets/base",
            "_model_module_version": "1.5.0",
            "_view_count": null,
            "_view_module_version": "1.2.0",
            "_model_module": "@jupyter-widgets/controls"
          }
        },
        "5cd5c10c504c485882998750c8839e6f": {
          "model_module": "@jupyter-widgets/base",
          "model_name": "LayoutModel",
          "state": {
            "_view_name": "LayoutView",
            "grid_template_rows": null,
            "right": null,
            "justify_content": null,
            "_view_module": "@jupyter-widgets/base",
            "overflow": null,
            "_model_module_version": "1.2.0",
            "_view_count": null,
            "flex_flow": null,
            "width": null,
            "min_width": null,
            "border": null,
            "align_items": null,
            "bottom": null,
            "_model_module": "@jupyter-widgets/base",
            "top": null,
            "grid_column": null,
            "overflow_y": null,
            "overflow_x": null,
            "grid_auto_flow": null,
            "grid_area": null,
            "grid_template_columns": null,
            "flex": null,
            "_model_name": "LayoutModel",
            "justify_items": null,
            "grid_row": null,
            "max_height": null,
            "align_content": null,
            "visibility": null,
            "align_self": null,
            "height": null,
            "min_height": null,
            "padding": null,
            "grid_auto_rows": null,
            "grid_gap": null,
            "max_width": null,
            "order": null,
            "_view_module_version": "1.2.0",
            "grid_template_areas": null,
            "object_position": null,
            "object_fit": null,
            "grid_auto_columns": null,
            "margin": null,
            "display": null,
            "left": null
          }
        }
      }
    }
  },
  "cells": [
    {
      "cell_type": "markdown",
      "metadata": {
        "id": "view-in-github",
        "colab_type": "text"
      },
      "source": [
        "<a href=\"https://colab.research.google.com/github/sejeong-park/Deeplearning_system/blob/main/ResNet_CIFAR10_momentum_epoch100.ipynb\" target=\"_parent\"><img src=\"https://colab.research.google.com/assets/colab-badge.svg\" alt=\"Open In Colab\"/></a>"
      ]
    },
    {
      "cell_type": "code",
      "metadata": {
        "id": "28gMu6lKDNC2"
      },
      "source": [
        "import torch\n",
        "import torch.nn as nn\n",
        "import torchvision\n",
        "import torchvision.transforms as transforms\n"
      ],
      "execution_count": null,
      "outputs": []
    },
    {
      "cell_type": "code",
      "metadata": {
        "id": "OvPGC9CADSJT"
      },
      "source": [
        "device = torch.device('cuda' if torch.cuda.is_available() else 'cpu')"
      ],
      "execution_count": null,
      "outputs": []
    },
    {
      "cell_type": "code",
      "metadata": {
        "id": "POdzkmQ4DSGX"
      },
      "source": [
        "# Hyper-parameters\n",
        "num_epochs = 100\n",
        "batch_size = 100\n",
        "learning_rate = 0.001"
      ],
      "execution_count": null,
      "outputs": []
    },
    {
      "cell_type": "code",
      "metadata": {
        "id": "uXAo_M6KDSDO"
      },
      "source": [
        "# Image preprocessing modules\n",
        "transform = transforms.Compose([\n",
        "    transforms.Pad(4),\n",
        "    transforms.RandomHorizontalFlip(),\n",
        "    transforms.RandomCrop(32),\n",
        "    transforms.ToTensor()])"
      ],
      "execution_count": null,
      "outputs": []
    },
    {
      "cell_type": "code",
      "metadata": {
        "colab": {
          "base_uri": "https://localhost:8080/",
          "height": 103,
          "referenced_widgets": [
            "6c6f56bc5acc4042beaa3727904c926e",
            "92c5db8c189e49f395c2dc65edd8673d",
            "7e45944917fb45328cda88200bdd6f2e",
            "87ac01ffabd94e329eb333f1399da1d0",
            "418fc4502ebe495cb884fa259c426a9c",
            "3e9af11094b84882977451e6c62bccc8",
            "761b6e281932469c85d26343ad87a2c1",
            "5cd5c10c504c485882998750c8839e6f"
          ]
        },
        "id": "qyiCqRZIDSAd",
        "outputId": "4dbf7b8c-365e-476b-899c-b1654d2b1498"
      },
      "source": [
        "# CIFAR-10 dataset\n",
        "train_dataset = torchvision.datasets.CIFAR10(root='../../data/',\n",
        "                                             train=True, \n",
        "                                             transform=transform,\n",
        "                                             download=True)\n",
        "\n",
        "test_dataset = torchvision.datasets.CIFAR10(root='../../data/',\n",
        "                                            train=False, \n",
        "                                            transform=transforms.ToTensor())"
      ],
      "execution_count": null,
      "outputs": [
        {
          "output_type": "stream",
          "text": [
            "Downloading https://www.cs.toronto.edu/~kriz/cifar-10-python.tar.gz to ../../data/cifar-10-python.tar.gz\n"
          ],
          "name": "stdout"
        },
        {
          "output_type": "display_data",
          "data": {
            "application/vnd.jupyter.widget-view+json": {
              "model_id": "6c6f56bc5acc4042beaa3727904c926e",
              "version_minor": 0,
              "version_major": 2
            },
            "text/plain": [
              "HBox(children=(FloatProgress(value=0.0, max=170498071.0), HTML(value='')))"
            ]
          },
          "metadata": {
            "tags": []
          }
        },
        {
          "output_type": "stream",
          "text": [
            "\n",
            "Extracting ../../data/cifar-10-python.tar.gz to ../../data/\n"
          ],
          "name": "stdout"
        }
      ]
    },
    {
      "cell_type": "code",
      "metadata": {
        "id": "W21kgQ6jDR-E"
      },
      "source": [
        "# Data loader\n",
        "train_loader = torch.utils.data.DataLoader(dataset=train_dataset,\n",
        "                                           batch_size=batch_size,\n",
        "                                           shuffle=True)\n",
        "\n",
        "test_loader = torch.utils.data.DataLoader(dataset=test_dataset,\n",
        "                                          batch_size=batch_size,\n",
        "                                          shuffle=False)"
      ],
      "execution_count": null,
      "outputs": []
    },
    {
      "cell_type": "code",
      "metadata": {
        "id": "YxX75meaDXND"
      },
      "source": [
        "# 3x3 convolution\n",
        "def conv3x3(in_channels, out_channels, stride=1):\n",
        "    return nn.Conv2d(in_channels, out_channels, kernel_size=3, \n",
        "                     stride=stride, padding=1, bias=False)\n"
      ],
      "execution_count": null,
      "outputs": []
    },
    {
      "cell_type": "code",
      "metadata": {
        "id": "JDknUzzCDXKu"
      },
      "source": [
        "# Residual block\n",
        "class ResidualBlock(nn.Module):\n",
        "    def __init__(self, in_channels, out_channels, stride=1, downsample=None):\n",
        "        super(ResidualBlock, self).__init__()\n",
        "        self.conv1 = conv3x3(in_channels, out_channels, stride)\n",
        "        self.bn1 = nn.BatchNorm2d(out_channels)\n",
        "        self.relu = nn.ReLU(inplace=True)\n",
        "        self.conv2 = conv3x3(out_channels, out_channels)\n",
        "        self.bn2 = nn.BatchNorm2d(out_channels)\n",
        "        self.downsample = downsample\n",
        "        \n",
        "    def forward(self, x):\n",
        "        residual = x\n",
        "        out = self.conv1(x)\n",
        "        out = self.bn1(out)\n",
        "        out = self.relu(out)\n",
        "        out = self.conv2(out)\n",
        "        out = self.bn2(out)\n",
        "        if self.downsample:\n",
        "            residual = self.downsample(x)\n",
        "        out += residual\n",
        "        out = self.relu(out)\n",
        "        return out"
      ],
      "execution_count": null,
      "outputs": []
    },
    {
      "cell_type": "code",
      "metadata": {
        "id": "WFhHejLpDXHH"
      },
      "source": [
        "# ResNet\n",
        "class ResNet(nn.Module):\n",
        "    def __init__(self, block, layers, num_classes=10):\n",
        "        super(ResNet, self).__init__()\n",
        "        self.in_channels = 16\n",
        "        self.conv = conv3x3(3, 16)\n",
        "        self.bn = nn.BatchNorm2d(16)\n",
        "        self.relu = nn.ReLU(inplace=True)\n",
        "        self.layer1 = self.make_layer(block, 16, layers[0])\n",
        "        self.layer2 = self.make_layer(block, 32, layers[1], 2)\n",
        "        self.layer3 = self.make_layer(block, 64, layers[2], 2)\n",
        "        self.avg_pool = nn.AvgPool2d(8)\n",
        "        self.fc = nn.Linear(64, num_classes)\n",
        "        \n",
        "    def make_layer(self, block, out_channels, blocks, stride=1):\n",
        "        downsample = None\n",
        "        if (stride != 1) or (self.in_channels != out_channels):\n",
        "            downsample = nn.Sequential(\n",
        "                conv3x3(self.in_channels, out_channels, stride=stride),\n",
        "                nn.BatchNorm2d(out_channels))\n",
        "        layers = []\n",
        "        layers.append(block(self.in_channels, out_channels, stride, downsample))\n",
        "        self.in_channels = out_channels\n",
        "        for i in range(1, blocks):\n",
        "            layers.append(block(out_channels, out_channels))\n",
        "        return nn.Sequential(*layers)\n",
        "    \n",
        "    def forward(self, x):\n",
        "        out = self.conv(x)\n",
        "        out = self.bn(out)\n",
        "        out = self.relu(out)\n",
        "        out = self.layer1(out)\n",
        "        out = self.layer2(out)\n",
        "        out = self.layer3(out)\n",
        "        out = self.avg_pool(out)\n",
        "        out = out.view(out.size(0), -1)\n",
        "        out = self.fc(out)\n",
        "        return out\n",
        "    "
      ],
      "execution_count": null,
      "outputs": []
    },
    {
      "cell_type": "code",
      "metadata": {
        "id": "TO7S7UloDXDp"
      },
      "source": [
        "model = ResNet(ResidualBlock, [2, 2, 2]).to(device)"
      ],
      "execution_count": null,
      "outputs": []
    },
    {
      "cell_type": "code",
      "metadata": {
        "id": "e8b4VRFoDR7N"
      },
      "source": [
        "# Loss and optimizer\n",
        "criterion = nn.CrossEntropyLoss()\n",
        "optimizer = torch.optim.SGD(model.parameters(), lr=learning_rate, momentum=0.9)"
      ],
      "execution_count": null,
      "outputs": []
    },
    {
      "cell_type": "code",
      "metadata": {
        "id": "TDBkPrHRDfdY"
      },
      "source": [
        "# For updating learning rate\n",
        "def update_lr(optimizer, lr):    \n",
        "    for param_group in optimizer.param_groups:\n",
        "        param_group['lr'] = lr\n"
      ],
      "execution_count": null,
      "outputs": []
    },
    {
      "cell_type": "code",
      "metadata": {
        "colab": {
          "base_uri": "https://localhost:8080/"
        },
        "id": "vqgqQz0KFci4",
        "outputId": "76c21369-32e5-475e-b8f8-1639777cf943"
      },
      "source": [
        "total_step = len(train_loader)\n",
        "Loss = []\n",
        "Acc = []\n",
        "Val_Loss = []\n",
        "Val_Acc = []\n",
        "\n",
        "for epoch in range(num_epochs):\n",
        "  acc = 0\n",
        "  val_acc = 0\n",
        "  for i, (images, labels) in enumerate(train_loader):\n",
        "    model.train()\n",
        "    images = images.to(device)\n",
        "    labels = labels.to(device)\n",
        "    \n",
        "    # Forward pass\n",
        "    outputs = model(images)\n",
        "    loss = criterion(outputs, labels)\n",
        "    \n",
        "    # Backward and optimize\n",
        "    optimizer.zero_grad()\n",
        "    loss.backward()\n",
        "    optimizer.step()\n",
        "    \n",
        "    # Checking accuracy\n",
        "    preds = outputs.data.max(dim=1,keepdim=True)[1]\n",
        "    acc += preds.eq(labels.data.view_as(preds)).cpu().sum()\n",
        "    \n",
        "  acc = acc/len(train_loader.dataset) * 100\n",
        "    \n",
        "  for i, (images, labels) in enumerate(test_loader):\n",
        "    model.eval()\n",
        "    images = images.to(device)\n",
        "    labels = labels.to(device)\n",
        "    \n",
        "    # Forward pass\n",
        "    outputs = model(images)\n",
        "    val_loss = criterion(outputs, labels)\n",
        "    \n",
        "    # Checking accuracy\n",
        "    preds = outputs.data.max(dim=1,keepdim=True)[1]\n",
        "    val_acc += preds.eq(labels.data.view_as(preds)).cpu().sum()\n",
        "    \n",
        "  val_acc = val_acc/len(test_loader.dataset) * 100\n",
        "    \n",
        "  print(\"Epoch {} =>  loss : {loss:.2f};   Accuracy : {acc:.2f}%;   Val_loss : {val_loss:.2f};   Val_Accuracy : {val_acc:.2f}%\".format(epoch+1, loss=loss.item(), acc=acc, val_loss=val_loss.item(), val_acc=val_acc))\n",
        "  \n",
        "  Loss.append(loss)\n",
        "  Acc.append(acc)\n",
        "\n",
        "  Val_Loss.append(val_loss)\n",
        "  Val_Acc.append(val_acc)"
      ],
      "execution_count": null,
      "outputs": [
        {
          "output_type": "stream",
          "text": [
            "Epoch 1 =>  loss : 1.68;   Accuracy : 31.75%;   Val_loss : 1.82;   Val_Accuracy : 32.94%\n",
            "Epoch 2 =>  loss : 1.54;   Accuracy : 44.51%;   Val_loss : 1.73;   Val_Accuracy : 44.08%\n",
            "Epoch 3 =>  loss : 1.22;   Accuracy : 51.75%;   Val_loss : 1.33;   Val_Accuracy : 54.40%\n",
            "Epoch 4 =>  loss : 1.17;   Accuracy : 56.33%;   Val_loss : 1.30;   Val_Accuracy : 56.16%\n",
            "Epoch 5 =>  loss : 1.24;   Accuracy : 59.56%;   Val_loss : 1.32;   Val_Accuracy : 57.62%\n",
            "Epoch 6 =>  loss : 1.02;   Accuracy : 62.66%;   Val_loss : 1.36;   Val_Accuracy : 52.86%\n",
            "Epoch 7 =>  loss : 0.90;   Accuracy : 64.89%;   Val_loss : 1.20;   Val_Accuracy : 56.41%\n",
            "Epoch 8 =>  loss : 1.11;   Accuracy : 66.68%;   Val_loss : 1.29;   Val_Accuracy : 60.32%\n",
            "Epoch 9 =>  loss : 1.01;   Accuracy : 68.14%;   Val_loss : 1.12;   Val_Accuracy : 67.10%\n",
            "Epoch 10 =>  loss : 0.88;   Accuracy : 69.50%;   Val_loss : 1.00;   Val_Accuracy : 67.77%\n",
            "Epoch 11 =>  loss : 0.75;   Accuracy : 70.27%;   Val_loss : 0.96;   Val_Accuracy : 68.62%\n",
            "Epoch 12 =>  loss : 0.80;   Accuracy : 71.68%;   Val_loss : 0.93;   Val_Accuracy : 69.43%\n",
            "Epoch 13 =>  loss : 0.73;   Accuracy : 72.63%;   Val_loss : 1.14;   Val_Accuracy : 65.28%\n",
            "Epoch 14 =>  loss : 0.87;   Accuracy : 73.34%;   Val_loss : 0.75;   Val_Accuracy : 72.49%\n",
            "Epoch 15 =>  loss : 0.87;   Accuracy : 74.42%;   Val_loss : 0.97;   Val_Accuracy : 72.13%\n",
            "Epoch 16 =>  loss : 0.71;   Accuracy : 75.22%;   Val_loss : 0.79;   Val_Accuracy : 72.55%\n",
            "Epoch 17 =>  loss : 0.65;   Accuracy : 76.11%;   Val_loss : 0.86;   Val_Accuracy : 74.42%\n",
            "Epoch 18 =>  loss : 0.77;   Accuracy : 76.69%;   Val_loss : 1.01;   Val_Accuracy : 69.33%\n",
            "Epoch 19 =>  loss : 0.74;   Accuracy : 77.22%;   Val_loss : 0.89;   Val_Accuracy : 72.80%\n",
            "Epoch 20 =>  loss : 0.53;   Accuracy : 77.89%;   Val_loss : 0.83;   Val_Accuracy : 75.55%\n",
            "Epoch 21 =>  loss : 0.53;   Accuracy : 78.44%;   Val_loss : 0.86;   Val_Accuracy : 75.05%\n",
            "Epoch 22 =>  loss : 0.58;   Accuracy : 78.78%;   Val_loss : 0.72;   Val_Accuracy : 78.11%\n",
            "Epoch 23 =>  loss : 0.52;   Accuracy : 79.29%;   Val_loss : 0.84;   Val_Accuracy : 74.19%\n",
            "Epoch 24 =>  loss : 0.55;   Accuracy : 79.51%;   Val_loss : 0.71;   Val_Accuracy : 76.79%\n",
            "Epoch 25 =>  loss : 0.57;   Accuracy : 80.11%;   Val_loss : 0.69;   Val_Accuracy : 77.96%\n",
            "Epoch 26 =>  loss : 0.55;   Accuracy : 80.50%;   Val_loss : 0.68;   Val_Accuracy : 79.21%\n",
            "Epoch 27 =>  loss : 0.52;   Accuracy : 80.81%;   Val_loss : 0.69;   Val_Accuracy : 77.34%\n",
            "Epoch 28 =>  loss : 0.43;   Accuracy : 81.41%;   Val_loss : 1.02;   Val_Accuracy : 69.45%\n",
            "Epoch 29 =>  loss : 0.56;   Accuracy : 81.73%;   Val_loss : 0.80;   Val_Accuracy : 74.37%\n",
            "Epoch 30 =>  loss : 0.47;   Accuracy : 81.72%;   Val_loss : 0.78;   Val_Accuracy : 77.16%\n",
            "Epoch 31 =>  loss : 0.46;   Accuracy : 82.42%;   Val_loss : 0.65;   Val_Accuracy : 77.39%\n",
            "Epoch 32 =>  loss : 0.51;   Accuracy : 82.62%;   Val_loss : 0.73;   Val_Accuracy : 78.94%\n",
            "Epoch 33 =>  loss : 0.28;   Accuracy : 82.63%;   Val_loss : 0.65;   Val_Accuracy : 80.50%\n",
            "Epoch 34 =>  loss : 0.32;   Accuracy : 82.98%;   Val_loss : 0.57;   Val_Accuracy : 80.25%\n",
            "Epoch 35 =>  loss : 0.42;   Accuracy : 83.06%;   Val_loss : 0.67;   Val_Accuracy : 79.89%\n",
            "Epoch 36 =>  loss : 0.50;   Accuracy : 83.55%;   Val_loss : 0.65;   Val_Accuracy : 80.90%\n",
            "Epoch 37 =>  loss : 0.53;   Accuracy : 83.77%;   Val_loss : 0.78;   Val_Accuracy : 80.56%\n",
            "Epoch 38 =>  loss : 0.49;   Accuracy : 83.85%;   Val_loss : 0.75;   Val_Accuracy : 80.41%\n",
            "Epoch 39 =>  loss : 0.44;   Accuracy : 84.27%;   Val_loss : 0.57;   Val_Accuracy : 81.73%\n",
            "Epoch 40 =>  loss : 0.35;   Accuracy : 84.26%;   Val_loss : 0.59;   Val_Accuracy : 80.24%\n",
            "Epoch 41 =>  loss : 0.43;   Accuracy : 84.65%;   Val_loss : 0.63;   Val_Accuracy : 80.47%\n",
            "Epoch 42 =>  loss : 0.44;   Accuracy : 84.57%;   Val_loss : 0.63;   Val_Accuracy : 80.70%\n",
            "Epoch 43 =>  loss : 0.54;   Accuracy : 85.01%;   Val_loss : 0.59;   Val_Accuracy : 79.73%\n",
            "Epoch 44 =>  loss : 0.45;   Accuracy : 85.09%;   Val_loss : 0.79;   Val_Accuracy : 78.75%\n",
            "Epoch 45 =>  loss : 0.36;   Accuracy : 85.28%;   Val_loss : 0.71;   Val_Accuracy : 78.26%\n",
            "Epoch 46 =>  loss : 0.44;   Accuracy : 85.46%;   Val_loss : 0.78;   Val_Accuracy : 80.10%\n",
            "Epoch 47 =>  loss : 0.46;   Accuracy : 85.83%;   Val_loss : 0.84;   Val_Accuracy : 76.11%\n",
            "Epoch 48 =>  loss : 0.32;   Accuracy : 86.08%;   Val_loss : 0.56;   Val_Accuracy : 80.83%\n",
            "Epoch 49 =>  loss : 0.48;   Accuracy : 86.18%;   Val_loss : 0.68;   Val_Accuracy : 81.44%\n",
            "Epoch 50 =>  loss : 0.41;   Accuracy : 85.96%;   Val_loss : 0.67;   Val_Accuracy : 82.56%\n",
            "Epoch 51 =>  loss : 0.42;   Accuracy : 86.21%;   Val_loss : 0.60;   Val_Accuracy : 81.09%\n",
            "Epoch 52 =>  loss : 0.36;   Accuracy : 86.54%;   Val_loss : 0.51;   Val_Accuracy : 83.42%\n",
            "Epoch 53 =>  loss : 0.44;   Accuracy : 86.43%;   Val_loss : 0.64;   Val_Accuracy : 80.45%\n",
            "Epoch 54 =>  loss : 0.31;   Accuracy : 86.70%;   Val_loss : 0.67;   Val_Accuracy : 80.55%\n",
            "Epoch 55 =>  loss : 0.41;   Accuracy : 87.04%;   Val_loss : 0.55;   Val_Accuracy : 81.29%\n",
            "Epoch 56 =>  loss : 0.48;   Accuracy : 87.23%;   Val_loss : 0.62;   Val_Accuracy : 82.19%\n",
            "Epoch 57 =>  loss : 0.42;   Accuracy : 87.22%;   Val_loss : 0.59;   Val_Accuracy : 82.21%\n",
            "Epoch 58 =>  loss : 0.34;   Accuracy : 87.25%;   Val_loss : 0.63;   Val_Accuracy : 82.42%\n",
            "Epoch 59 =>  loss : 0.49;   Accuracy : 87.64%;   Val_loss : 0.49;   Val_Accuracy : 82.92%\n",
            "Epoch 60 =>  loss : 0.33;   Accuracy : 87.54%;   Val_loss : 0.61;   Val_Accuracy : 83.00%\n",
            "Epoch 61 =>  loss : 0.22;   Accuracy : 87.61%;   Val_loss : 0.55;   Val_Accuracy : 82.81%\n",
            "Epoch 62 =>  loss : 0.35;   Accuracy : 87.93%;   Val_loss : 0.50;   Val_Accuracy : 83.69%\n",
            "Epoch 63 =>  loss : 0.28;   Accuracy : 88.02%;   Val_loss : 0.67;   Val_Accuracy : 83.19%\n",
            "Epoch 64 =>  loss : 0.38;   Accuracy : 88.08%;   Val_loss : 0.71;   Val_Accuracy : 81.66%\n",
            "Epoch 65 =>  loss : 0.36;   Accuracy : 88.33%;   Val_loss : 0.46;   Val_Accuracy : 84.41%\n",
            "Epoch 66 =>  loss : 0.33;   Accuracy : 88.15%;   Val_loss : 0.69;   Val_Accuracy : 82.24%\n",
            "Epoch 67 =>  loss : 0.28;   Accuracy : 88.47%;   Val_loss : 0.63;   Val_Accuracy : 83.91%\n",
            "Epoch 68 =>  loss : 0.20;   Accuracy : 88.35%;   Val_loss : 0.69;   Val_Accuracy : 79.26%\n",
            "Epoch 69 =>  loss : 0.31;   Accuracy : 88.77%;   Val_loss : 0.49;   Val_Accuracy : 82.45%\n",
            "Epoch 70 =>  loss : 0.36;   Accuracy : 88.61%;   Val_loss : 0.46;   Val_Accuracy : 83.01%\n",
            "Epoch 71 =>  loss : 0.35;   Accuracy : 88.71%;   Val_loss : 0.53;   Val_Accuracy : 83.01%\n",
            "Epoch 72 =>  loss : 0.31;   Accuracy : 88.81%;   Val_loss : 0.56;   Val_Accuracy : 84.81%\n",
            "Epoch 73 =>  loss : 0.33;   Accuracy : 89.06%;   Val_loss : 0.63;   Val_Accuracy : 83.06%\n",
            "Epoch 74 =>  loss : 0.37;   Accuracy : 89.18%;   Val_loss : 0.61;   Val_Accuracy : 82.34%\n",
            "Epoch 75 =>  loss : 0.31;   Accuracy : 89.33%;   Val_loss : 0.53;   Val_Accuracy : 84.04%\n",
            "Epoch 76 =>  loss : 0.32;   Accuracy : 89.10%;   Val_loss : 0.63;   Val_Accuracy : 82.79%\n",
            "Epoch 77 =>  loss : 0.27;   Accuracy : 89.37%;   Val_loss : 0.60;   Val_Accuracy : 85.01%\n",
            "Epoch 78 =>  loss : 0.39;   Accuracy : 89.54%;   Val_loss : 0.59;   Val_Accuracy : 83.05%\n",
            "Epoch 79 =>  loss : 0.30;   Accuracy : 89.49%;   Val_loss : 0.55;   Val_Accuracy : 83.94%\n",
            "Epoch 80 =>  loss : 0.21;   Accuracy : 89.59%;   Val_loss : 0.52;   Val_Accuracy : 84.97%\n",
            "Epoch 81 =>  loss : 0.18;   Accuracy : 89.68%;   Val_loss : 0.52;   Val_Accuracy : 84.42%\n",
            "Epoch 82 =>  loss : 0.24;   Accuracy : 89.67%;   Val_loss : 0.63;   Val_Accuracy : 84.05%\n",
            "Epoch 83 =>  loss : 0.23;   Accuracy : 89.95%;   Val_loss : 0.60;   Val_Accuracy : 83.97%\n",
            "Epoch 84 =>  loss : 0.29;   Accuracy : 90.05%;   Val_loss : 0.56;   Val_Accuracy : 84.71%\n",
            "Epoch 85 =>  loss : 0.33;   Accuracy : 90.00%;   Val_loss : 0.55;   Val_Accuracy : 84.57%\n",
            "Epoch 86 =>  loss : 0.28;   Accuracy : 90.06%;   Val_loss : 0.55;   Val_Accuracy : 83.85%\n",
            "Epoch 87 =>  loss : 0.19;   Accuracy : 90.41%;   Val_loss : 0.64;   Val_Accuracy : 84.86%\n",
            "Epoch 88 =>  loss : 0.25;   Accuracy : 90.15%;   Val_loss : 0.52;   Val_Accuracy : 84.59%\n",
            "Epoch 89 =>  loss : 0.31;   Accuracy : 90.41%;   Val_loss : 0.53;   Val_Accuracy : 84.58%\n",
            "Epoch 90 =>  loss : 0.19;   Accuracy : 90.62%;   Val_loss : 0.53;   Val_Accuracy : 83.79%\n",
            "Epoch 91 =>  loss : 0.24;   Accuracy : 90.39%;   Val_loss : 0.57;   Val_Accuracy : 85.24%\n",
            "Epoch 92 =>  loss : 0.25;   Accuracy : 90.77%;   Val_loss : 0.66;   Val_Accuracy : 84.37%\n",
            "Epoch 93 =>  loss : 0.26;   Accuracy : 90.71%;   Val_loss : 0.67;   Val_Accuracy : 85.72%\n",
            "Epoch 94 =>  loss : 0.32;   Accuracy : 90.74%;   Val_loss : 0.71;   Val_Accuracy : 82.86%\n",
            "Epoch 95 =>  loss : 0.20;   Accuracy : 90.69%;   Val_loss : 0.53;   Val_Accuracy : 84.77%\n",
            "Epoch 96 =>  loss : 0.36;   Accuracy : 90.89%;   Val_loss : 0.61;   Val_Accuracy : 82.76%\n",
            "Epoch 97 =>  loss : 0.31;   Accuracy : 90.94%;   Val_loss : 0.56;   Val_Accuracy : 84.93%\n",
            "Epoch 98 =>  loss : 0.27;   Accuracy : 91.11%;   Val_loss : 0.54;   Val_Accuracy : 84.06%\n",
            "Epoch 99 =>  loss : 0.35;   Accuracy : 91.21%;   Val_loss : 0.59;   Val_Accuracy : 84.47%\n",
            "Epoch 100 =>  loss : 0.26;   Accuracy : 90.96%;   Val_loss : 0.66;   Val_Accuracy : 84.37%\n"
          ],
          "name": "stdout"
        }
      ]
    },
    {
      "cell_type": "code",
      "metadata": {
        "id": "y5AQGO0-Nyju"
      },
      "source": [
        "import matplotlib.pyplot as plt"
      ],
      "execution_count": null,
      "outputs": []
    },
    {
      "cell_type": "code",
      "metadata": {
        "colab": {
          "base_uri": "https://localhost:8080/",
          "height": 295
        },
        "id": "UOK_5l_lDfZR",
        "outputId": "93a10dd8-f4e0-40eb-b13f-34e713d4ee63"
      },
      "source": [
        "plt.plot(range(num_epochs),Loss)\n",
        "plt.plot(range(num_epochs),Val_Loss)\n",
        "plt.ylabel('Loss')\n",
        "plt.xlabel('Epoch')\n",
        "plt.ylim([0,2.0])\n",
        "plt.title(\"Momentum Loss\")\n",
        "plt.legend([\"Training Loss\", \"Validation Loss\"])\n",
        "plt.show()"
      ],
      "execution_count": null,
      "outputs": [
        {
          "output_type": "display_data",
          "data": {
            "image/png": "[encoded data removed]",
            "text/plain": [
              "<Figure size 432x288 with 1 Axes>"
            ]
          },
          "metadata": {
            "tags": [],
            "needs_background": "light"
          }
        }
      ]
    },
    {
      "cell_type": "code",
      "metadata": {
        "colab": {
          "base_uri": "https://localhost:8080/",
          "height": 295
        },
        "id": "RvyaGqheDfV1",
        "outputId": "07fe4f84-0303-4e7e-a43a-462f8fcd03b4"
      },
      "source": [
        "plt.plot(range(num_epochs),Acc)\n",
        "plt.plot(range(num_epochs),Val_Acc)\n",
        "plt.ylabel('Accuracy')\n",
        "plt.xlabel('Epoch')\n",
        "plt.title(\"momentum Accuracy\")\n",
        "plt.legend([\"Training Accuracy\", \"Validation Accuracy\"])\n",
        "plt.show()"
      ],
      "execution_count": null,
      "outputs": [
        {
          "output_type": "display_data",
          "data": {
            "image/png": "[encoded data removed]",
            "text/plain": [
              "<Figure size 432x288 with 1 Axes>"
            ]
          },
          "metadata": {
            "tags": [],
            "needs_background": "light"
          }
        }
      ]
    }
  ]
}