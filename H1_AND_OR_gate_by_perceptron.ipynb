{
  "nbformat": 4,
  "nbformat_minor": 0,
  "metadata": {
    "colab": {
      "name": "H1_AND_OR_gate by perceptron",
      "provenance": [],
      "authorship_tag": "ABX9TyN7MoA1KediN2Whe94GntOQ",
      "include_colab_link": true
    },
    "kernelspec": {
      "name": "python3",
      "display_name": "Python 3"
    }
  },
  "cells": [
    {
      "cell_type": "markdown",
      "metadata": {
        "id": "view-in-github",
        "colab_type": "text"
      },
      "source": [
        "<a href=\"https://colab.research.google.com/github/sejeong-park/Deeplearning_system/blob/main/H1_AND_OR_gate_by_perceptron.ipynb\" target=\"_parent\"><img src=\"https://colab.research.google.com/assets/colab-badge.svg\" alt=\"Open In Colab\"/></a>"
      ]
    },
    {
      "cell_type": "code",
      "metadata": {
        "id": "dZEOewLR2P_X"
      },
      "source": [
        "import numpy as np  "
      ],
      "execution_count": 26,
      "outputs": []
    },
    {
      "cell_type": "markdown",
      "metadata": {
        "id": "hH4s3mZKG1vZ"
      },
      "source": [
        "# **Perceptron 구조**"
      ]
    },
    {
      "cell_type": "code",
      "metadata": {
        "id": "uIumOwFQ2SeG"
      },
      "source": [
        "#r=learning rate: 1로 두어서 상관 없이 일단 설정 -> 다음 시간에 배울 것\r\n",
        "#input dimmention은 입력 해렬\r\n",
        "#w의 값은 랜덤 으로 설정할 거 고  dim_input 들어감\r\n",
        "\r\n",
        "class Perceptron(object):\r\n",
        "  def __init__(self, dim_input,no_iteration=100,r=1):\r\n",
        "    self.no_iteration = no_iteration\r\n",
        "    self.r=r\r\n",
        "    self.w=np.random.random_sample((dim_input+1,))\r\n",
        " \r\n",
        " # 예측값: 인풋 벡터가 들어왔을 때\r\n",
        "  def predict(self,X):\r\n",
        "    #bias구성 빼고 하기 때문에 1부터로 설정\r\n",
        "    w_sum=np.dot(X,self.w[1:])+self.w[0]\r\n",
        "\r\n",
        "    if w_sum>=0: return 1\r\n",
        "    else: return 0\r\n",
        "  #learning rule\r\n",
        "  #rate를 업데이트하는 과정 ->  training\r\n",
        "  #lavels: target a : target output\r\n",
        "  #training_x: test에서 나온 input 값\r\n",
        "  def training(self, training_x,labels):\r\n",
        "    for _ in range(self.no_iteration):\r\n",
        "      for xi,actual_y in zip(training_x,labels):\r\n",
        "        predicted_y=self.predict(xi)\r\n",
        "        self.w[1:]+= self.r*(actual_y-predicted_y)*xi #bias를 제외한 가중치 \r\n",
        "        self.w[0]+=self.r*(actual_y-predicted_y) #bias  \r\n",
        "\r\n"
      ],
      "execution_count": 27,
      "outputs": []
    },
    {
      "cell_type": "markdown",
      "metadata": {
        "id": "befGo-DnEn9L"
      },
      "source": [
        "AND_GATE"
      ]
    },
    {
      "cell_type": "code",
      "metadata": {
        "id": "BWO9LWo12Sgu"
      },
      "source": [
        "X=[]\r\n",
        "X.append(np.array([0,0,0]))\r\n",
        "X.append(np.array([0,0,1]))\r\n",
        "X.append(np.array([0,1,0]))\r\n",
        "X.append(np.array([0,1,1]))\r\n",
        "X.append(np.array([1,0,0]))\r\n",
        "X.append(np.array([1,0,1]))\r\n",
        "X.append(np.array([1,1,0]))\r\n",
        "X.append(np.array([1,1,1]))\r\n",
        "\r\n",
        "\r\n",
        "\r\n",
        "Y=np.array([0,0,0,0,0,0,0,1]) #target으로 하는 output\r\n"
      ],
      "execution_count": 28,
      "outputs": []
    },
    {
      "cell_type": "code",
      "metadata": {
        "id": "1DMxt4i872qz"
      },
      "source": [
        "perceptron=Perceptron(X[0].size)"
      ],
      "execution_count": 29,
      "outputs": []
    },
    {
      "cell_type": "code",
      "metadata": {
        "colab": {
          "base_uri": "https://localhost:8080/"
        },
        "id": "rglXw-N42Sjf",
        "outputId": "ecf6ee3a-236b-49fd-d2a8-319a9692c32e"
      },
      "source": [
        "print(\"Before training\")\r\n",
        "\r\n",
        "for i in range(8):\r\n",
        "  print(perceptron.predict(X[i]))"
      ],
      "execution_count": 30,
      "outputs": [
        {
          "output_type": "stream",
          "text": [
            "Before training\n",
            "1\n",
            "1\n",
            "1\n",
            "1\n",
            "1\n",
            "1\n",
            "1\n",
            "1\n"
          ],
          "name": "stdout"
        }
      ]
    },
    {
      "cell_type": "code",
      "metadata": {
        "id": "Bps_tzmW8QRl"
      },
      "source": [
        "perceptron.training(X,Y)"
      ],
      "execution_count": 31,
      "outputs": []
    },
    {
      "cell_type": "code",
      "metadata": {
        "colab": {
          "base_uri": "https://localhost:8080/"
        },
        "id": "OzHQYQ7p2Sl5",
        "outputId": "34c866c4-7079-4ff1-d556-f3b8a7cba430"
      },
      "source": [
        "print(\"After training\")\r\n",
        "\r\n",
        "for i in range(8):\r\n",
        "  print(perceptron.predict(X[i]))\r\n"
      ],
      "execution_count": 32,
      "outputs": [
        {
          "output_type": "stream",
          "text": [
            "After training\n",
            "0\n",
            "0\n",
            "0\n",
            "0\n",
            "0\n",
            "0\n",
            "0\n",
            "1\n"
          ],
          "name": "stdout"
        }
      ]
    },
    {
      "cell_type": "markdown",
      "metadata": {
        "id": "vd8LtCFDHG0I"
      },
      "source": [
        "OR gate"
      ]
    },
    {
      "cell_type": "code",
      "metadata": {
        "id": "do4Q2VSq2SxB"
      },
      "source": [
        "X=[]\r\n",
        "X.append(np.array([0,0,0]))\r\n",
        "X.append(np.array([0,0,1]))\r\n",
        "X.append(np.array([0,1,0]))\r\n",
        "X.append(np.array([0,1,1]))\r\n",
        "X.append(np.array([1,0,0]))\r\n",
        "X.append(np.array([1,0,1]))\r\n",
        "X.append(np.array([1,1,0]))\r\n",
        "X.append(np.array([1,1,1]))\r\n",
        "\r\n",
        "Y=np.array([0,1,1,1,1,1,1,1])"
      ],
      "execution_count": 34,
      "outputs": []
    },
    {
      "cell_type": "code",
      "metadata": {
        "id": "hlBhn5Q_HSmU"
      },
      "source": [
        "perceptron=Perceptron(X[0].size)"
      ],
      "execution_count": 35,
      "outputs": []
    },
    {
      "cell_type": "code",
      "metadata": {
        "colab": {
          "base_uri": "https://localhost:8080/"
        },
        "id": "0hrhStJVHSkH",
        "outputId": "6b3797f4-2725-4f9f-faa7-f6eaa2515417"
      },
      "source": [
        "print(\"Before training\")\r\n",
        "\r\n",
        "for i in range(8):\r\n",
        "  print(perceptron.predict(X[i]))"
      ],
      "execution_count": 36,
      "outputs": [
        {
          "output_type": "stream",
          "text": [
            "Before training\n",
            "1\n",
            "1\n",
            "1\n",
            "1\n",
            "1\n",
            "1\n",
            "1\n",
            "1\n"
          ],
          "name": "stdout"
        }
      ]
    },
    {
      "cell_type": "code",
      "metadata": {
        "id": "L7Mn9ofgHSg-"
      },
      "source": [
        "perceptron.training(X,Y)"
      ],
      "execution_count": 37,
      "outputs": []
    },
    {
      "cell_type": "code",
      "metadata": {
        "colab": {
          "base_uri": "https://localhost:8080/"
        },
        "id": "JLuqTji8HSeM",
        "outputId": "6e83d2de-e51b-4c3b-ee31-736787ceaa33"
      },
      "source": [
        "print(\"After training\")\r\n",
        "\r\n",
        "for i in range(8):\r\n",
        "  print(perceptron.predict(X[i]))\r\n"
      ],
      "execution_count": 38,
      "outputs": [
        {
          "output_type": "stream",
          "text": [
            "After training\n",
            "0\n",
            "1\n",
            "1\n",
            "1\n",
            "1\n",
            "1\n",
            "1\n",
            "1\n"
          ],
          "name": "stdout"
        }
      ]
    }
  ]
}