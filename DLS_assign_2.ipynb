{
  "nbformat": 4,
  "nbformat_minor": 0,
  "metadata": {
    "colab": {
      "name": "DLS_assign_2의 사본",
      "provenance": [],
      "authorship_tag": "ABX9TyPxLQ8y70PnIasWjxC+lkfj",
      "include_colab_link": true
    },
    "kernelspec": {
      "name": "python3",
      "display_name": "Python 3"
    },
    "language_info": {
      "name": "python"
    }
  },
  "cells": [
    {
      "cell_type": "markdown",
      "metadata": {
        "id": "view-in-github",
        "colab_type": "text"
      },
      "source": [
        "<a href=\"https://colab.research.google.com/github/sejeong-park/Deeplearning_system/blob/main/DLS_assign_2.ipynb\" target=\"_parent\"><img src=\"https://colab.research.google.com/assets/colab-badge.svg\" alt=\"Open In Colab\"/></a>"
      ]
    },
    {
      "cell_type": "markdown",
      "metadata": {
        "id": "REh53rHgevSG"
      },
      "source": [
        "epoch값에 따른 squared error"
      ]
    },
    {
      "cell_type": "code",
      "metadata": {
        "id": "hGDMeffoeoyB"
      },
      "source": [
        "import numpy as np\n",
        "import random"
      ],
      "execution_count": null,
      "outputs": []
    },
    {
      "cell_type": "code",
      "metadata": {
        "id": "ajPSBNeAe31M"
      },
      "source": [
        "def data_gen(no_train=100,b=0.1,variance=1):\n",
        "  x=np.ones(shape=(no_train,2))\n",
        "  y=np.zeros(shape=no_train)\n",
        "  for i in range(no_train):\n",
        "    x[i][1]=i\n",
        "    y[i]=b+i*variance+random.uniform(0,1)*10\n",
        "  return x,y\n",
        "\n",
        "## 랜덤한 데이터를 만들었다.\n"
      ],
      "execution_count": null,
      "outputs": []
    },
    {
      "cell_type": "code",
      "metadata": {
        "id": "8HsC1l5Ce3yG"
      },
      "source": [
        "no_train=100\n",
        "x,y=data_gen(no_train,b=3,variance=1)"
      ],
      "execution_count": null,
      "outputs": []
    },
    {
      "cell_type": "code",
      "metadata": {
        "id": "8TPo45ave3o-"
      },
      "source": [
        "# 이것을 고쳐서 11줄 라인 중 업데이트하여 epoch 적용 시킨 다음에 loop를 구해 에폭에 따른 값을 구해 그래프를 구해서 레프트 작성?\n",
        "\n",
        "def assign_example(x,y,no_train,r=1):\n",
        "  w=np.ones(2)\n",
        "  squared_error=0\n",
        "\n",
        "  for i in range(no_train):\n",
        "    error= w[0]*x[i,0]+w[1]*x[i,1]-y[i] #error=h(x(i)-y(i))\n",
        "    squared_error += error**2 #에러값을 제곱하여 계속 업데이트\n",
        "    w = w - r*np.dot(error,x[i])\n",
        "  \n",
        "  print(\"After an update,weights are {} and squard_error is {}\".format(w,squared_error/no_train))\n",
        "  return x , y, w"
      ],
      "execution_count": null,
      "outputs": []
    },
    {
      "cell_type": "code",
      "metadata": {
        "colab": {
          "base_uri": "https://localhost:8080/"
        },
        "id": "P7PySLevhBaY",
        "outputId": "80301c38-f603-4105-a42a-29d27371b746"
      },
      "source": [
        "x,y,w=assign_example(x,y,no_train,r=0.0001)"
      ],
      "execution_count": null,
      "outputs": [
        {
          "output_type": "stream",
          "text": [
            "After an update,weights are [1.01365916 1.04775462] and squard_error is 19.99559778722893\n"
          ],
          "name": "stdout"
        }
      ]
    }
  ]
}